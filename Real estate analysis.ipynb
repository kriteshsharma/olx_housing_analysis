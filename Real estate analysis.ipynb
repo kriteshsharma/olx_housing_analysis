{
 "cells": [
  {
   "cell_type": "code",
   "execution_count": 1,
   "metadata": {},
   "outputs": [],
   "source": [
    "import pandas as pd\n",
    "import numpy as np\n",
    "import matplotlib.pyplot as plt\n",
    "import seaborn as sns"
   ]
  },
  {
   "cell_type": "code",
   "execution_count": 2,
   "metadata": {},
   "outputs": [],
   "source": [
    "data=pd.read_csv('olx_rent_data_new.csv')"
   ]
  },
  {
   "cell_type": "code",
   "execution_count": 3,
   "metadata": {},
   "outputs": [
    {
     "data": {
      "text/html": [
       "<div>\n",
       "<style scoped>\n",
       "    .dataframe tbody tr th:only-of-type {\n",
       "        vertical-align: middle;\n",
       "    }\n",
       "\n",
       "    .dataframe tbody tr th {\n",
       "        vertical-align: top;\n",
       "    }\n",
       "\n",
       "    .dataframe thead th {\n",
       "        text-align: right;\n",
       "    }\n",
       "</style>\n",
       "<table border=\"1\" class=\"dataframe\">\n",
       "  <thead>\n",
       "    <tr style=\"text-align: right;\">\n",
       "      <th></th>\n",
       "      <th>Type</th>\n",
       "      <th>bedroom</th>\n",
       "      <th>bathroom</th>\n",
       "      <th>furnishing</th>\n",
       "      <th>Carpet Area (ft²)</th>\n",
       "      <th>Maintenance (Monthly)</th>\n",
       "      <th>facing</th>\n",
       "      <th>Total floor</th>\n",
       "      <th>state</th>\n",
       "      <th>Rent</th>\n",
       "    </tr>\n",
       "  </thead>\n",
       "  <tbody>\n",
       "    <tr>\n",
       "      <th>0</th>\n",
       "      <td>Apartments</td>\n",
       "      <td>2</td>\n",
       "      <td>2</td>\n",
       "      <td>Semi-Furnished</td>\n",
       "      <td>700</td>\n",
       "      <td>4000</td>\n",
       "      <td>North-East</td>\n",
       "      <td>6</td>\n",
       "      <td>Andheri East, Mumbai, Maharashtra</td>\n",
       "      <td>₹ 42,000</td>\n",
       "    </tr>\n",
       "    <tr>\n",
       "      <th>1</th>\n",
       "      <td>Apartments</td>\n",
       "      <td>1</td>\n",
       "      <td>2</td>\n",
       "      <td>Furnished</td>\n",
       "      <td>399</td>\n",
       "      <td>999</td>\n",
       "      <td>East</td>\n",
       "      <td>4</td>\n",
       "      <td>Andheri East, Mumbai, Maharashtra</td>\n",
       "      <td>₹ 20,000</td>\n",
       "    </tr>\n",
       "    <tr>\n",
       "      <th>2</th>\n",
       "      <td>-1</td>\n",
       "      <td>-1</td>\n",
       "      <td>-1</td>\n",
       "      <td>-1</td>\n",
       "      <td>-1</td>\n",
       "      <td>-1</td>\n",
       "      <td>-1</td>\n",
       "      <td>-1</td>\n",
       "      <td>-1</td>\n",
       "      <td>-1</td>\n",
       "    </tr>\n",
       "    <tr>\n",
       "      <th>3</th>\n",
       "      <td>Apartments</td>\n",
       "      <td>1</td>\n",
       "      <td>1</td>\n",
       "      <td>Furnished</td>\n",
       "      <td>550</td>\n",
       "      <td>5500</td>\n",
       "      <td>North-East</td>\n",
       "      <td>3</td>\n",
       "      <td>Chikhali, Pune, Maharashtra</td>\n",
       "      <td>₹ 5,500</td>\n",
       "    </tr>\n",
       "    <tr>\n",
       "      <th>4</th>\n",
       "      <td>Apartments</td>\n",
       "      <td>2</td>\n",
       "      <td>2</td>\n",
       "      <td>Semi-Furnished</td>\n",
       "      <td>800</td>\n",
       "      <td>1000</td>\n",
       "      <td>East</td>\n",
       "      <td>4</td>\n",
       "      <td>Model Colony, Nashik, Maharashtra</td>\n",
       "      <td>₹ 15,000</td>\n",
       "    </tr>\n",
       "  </tbody>\n",
       "</table>\n",
       "</div>"
      ],
      "text/plain": [
       "         Type bedroom bathroom      furnishing Carpet Area (ft²)  \\\n",
       "0  Apartments       2        2  Semi-Furnished               700   \n",
       "1  Apartments       1        2       Furnished               399   \n",
       "2          -1      -1       -1              -1                -1   \n",
       "3  Apartments       1        1       Furnished               550   \n",
       "4  Apartments       2        2  Semi-Furnished               800   \n",
       "\n",
       "   Maintenance (Monthly)      facing  Total floor  \\\n",
       "0                   4000  North-East            6   \n",
       "1                    999        East            4   \n",
       "2                     -1          -1           -1   \n",
       "3                   5500  North-East            3   \n",
       "4                   1000        East            4   \n",
       "\n",
       "                               state      Rent  \n",
       "0  Andheri East, Mumbai, Maharashtra  ₹ 42,000  \n",
       "1  Andheri East, Mumbai, Maharashtra  ₹ 20,000  \n",
       "2                                 -1        -1  \n",
       "3        Chikhali, Pune, Maharashtra   ₹ 5,500  \n",
       "4  Model Colony, Nashik, Maharashtra  ₹ 15,000  "
      ]
     },
     "execution_count": 3,
     "metadata": {},
     "output_type": "execute_result"
    }
   ],
   "source": [
    "data.head()"
   ]
  },
  {
   "cell_type": "code",
   "execution_count": 4,
   "metadata": {},
   "outputs": [
    {
     "data": {
      "text/plain": [
       "(1200, 10)"
      ]
     },
     "execution_count": 4,
     "metadata": {},
     "output_type": "execute_result"
    }
   ],
   "source": [
    "data.shape"
   ]
  },
  {
   "cell_type": "code",
   "execution_count": 5,
   "metadata": {},
   "outputs": [
    {
     "name": "stdout",
     "output_type": "stream",
     "text": [
      "<class 'pandas.core.frame.DataFrame'>\n",
      "RangeIndex: 1200 entries, 0 to 1199\n",
      "Data columns (total 10 columns):\n",
      " #   Column                 Non-Null Count  Dtype \n",
      "---  ------                 --------------  ----- \n",
      " 0   Type                   1200 non-null   object\n",
      " 1   bedroom                1200 non-null   object\n",
      " 2   bathroom               1200 non-null   object\n",
      " 3   furnishing             1200 non-null   object\n",
      " 4   Carpet Area (ft²)      1200 non-null   object\n",
      " 5   Maintenance (Monthly)  1200 non-null   int64 \n",
      " 6   facing                 1200 non-null   object\n",
      " 7   Total floor            1200 non-null   int64 \n",
      " 8   state                  1200 non-null   object\n",
      " 9   Rent                   1200 non-null   object\n",
      "dtypes: int64(2), object(8)\n",
      "memory usage: 93.9+ KB\n"
     ]
    }
   ],
   "source": [
    "data.info()"
   ]
  },
  {
   "cell_type": "code",
   "execution_count": 6,
   "metadata": {},
   "outputs": [
    {
     "data": {
      "text/html": [
       "<div>\n",
       "<style scoped>\n",
       "    .dataframe tbody tr th:only-of-type {\n",
       "        vertical-align: middle;\n",
       "    }\n",
       "\n",
       "    .dataframe tbody tr th {\n",
       "        vertical-align: top;\n",
       "    }\n",
       "\n",
       "    .dataframe thead th {\n",
       "        text-align: right;\n",
       "    }\n",
       "</style>\n",
       "<table border=\"1\" class=\"dataframe\">\n",
       "  <thead>\n",
       "    <tr style=\"text-align: right;\">\n",
       "      <th></th>\n",
       "      <th>Type</th>\n",
       "      <th>bedroom</th>\n",
       "      <th>bathroom</th>\n",
       "      <th>furnishing</th>\n",
       "      <th>Carpet Area (ft²)</th>\n",
       "      <th>Maintenance (Monthly)</th>\n",
       "      <th>facing</th>\n",
       "      <th>Total floor</th>\n",
       "      <th>state</th>\n",
       "      <th>Rent</th>\n",
       "    </tr>\n",
       "  </thead>\n",
       "  <tbody>\n",
       "    <tr>\n",
       "      <th>640</th>\n",
       "      <td>Apartments</td>\n",
       "      <td>3</td>\n",
       "      <td>3</td>\n",
       "      <td>Semi-Furnished</td>\n",
       "      <td>1600</td>\n",
       "      <td>3000</td>\n",
       "      <td>North-East</td>\n",
       "      <td>12</td>\n",
       "      <td>Gomti Nagar, Lucknow, Uttar Pradesh</td>\n",
       "      <td>₹ 16,000</td>\n",
       "    </tr>\n",
       "    <tr>\n",
       "      <th>641</th>\n",
       "      <td>Builder Floors</td>\n",
       "      <td>3</td>\n",
       "      <td>2</td>\n",
       "      <td>Semi-Furnished</td>\n",
       "      <td>1020</td>\n",
       "      <td>0</td>\n",
       "      <td>North-East</td>\n",
       "      <td>5</td>\n",
       "      <td>Noida Extension, Noida, Uttar Pradesh</td>\n",
       "      <td>₹ 8,650</td>\n",
       "    </tr>\n",
       "    <tr>\n",
       "      <th>642</th>\n",
       "      <td>Apartments</td>\n",
       "      <td>2</td>\n",
       "      <td>2</td>\n",
       "      <td>Unfurnished</td>\n",
       "      <td>3200</td>\n",
       "      <td>200</td>\n",
       "      <td>South-East</td>\n",
       "      <td>3</td>\n",
       "      <td>Kursi Road, Lucknow, Uttar Pradesh</td>\n",
       "      <td>₹ 7,500</td>\n",
       "    </tr>\n",
       "    <tr>\n",
       "      <th>643</th>\n",
       "      <td>Apartments</td>\n",
       "      <td>2</td>\n",
       "      <td>2</td>\n",
       "      <td>Unfurnished</td>\n",
       "      <td>1500</td>\n",
       "      <td>3</td>\n",
       "      <td>VDA COLONY PHASE-1 NEAR DR BHIM RAO AMBEDKAR H...</td>\n",
       "      <td>1</td>\n",
       "      <td>VDA Colony, Varanasi, Uttar Pradesh</td>\n",
       "      <td>₹ 11,000</td>\n",
       "    </tr>\n",
       "    <tr>\n",
       "      <th>644</th>\n",
       "      <td>Apartments</td>\n",
       "      <td>3</td>\n",
       "      <td>3</td>\n",
       "      <td>Furnished</td>\n",
       "      <td>1300</td>\n",
       "      <td>1500</td>\n",
       "      <td>North-West</td>\n",
       "      <td>6</td>\n",
       "      <td>Sector 104, Noida, Uttar Pradesh</td>\n",
       "      <td>₹ 25,000</td>\n",
       "    </tr>\n",
       "    <tr>\n",
       "      <th>...</th>\n",
       "      <td>...</td>\n",
       "      <td>...</td>\n",
       "      <td>...</td>\n",
       "      <td>...</td>\n",
       "      <td>...</td>\n",
       "      <td>...</td>\n",
       "      <td>...</td>\n",
       "      <td>...</td>\n",
       "      <td>...</td>\n",
       "      <td>...</td>\n",
       "    </tr>\n",
       "    <tr>\n",
       "      <th>1195</th>\n",
       "      <td>Apartments</td>\n",
       "      <td>2</td>\n",
       "      <td>2</td>\n",
       "      <td>Semi-Furnished</td>\n",
       "      <td>1000</td>\n",
       "      <td>400</td>\n",
       "      <td>North</td>\n",
       "      <td>2</td>\n",
       "      <td>Chromepet Radha Nagar, Chennai, Tamil Nadu</td>\n",
       "      <td>₹ 10,000</td>\n",
       "    </tr>\n",
       "    <tr>\n",
       "      <th>1196</th>\n",
       "      <td>Houses &amp; Villas</td>\n",
       "      <td>2</td>\n",
       "      <td>1</td>\n",
       "      <td>Semi-Furnished</td>\n",
       "      <td>650</td>\n",
       "      <td>0</td>\n",
       "      <td>South</td>\n",
       "      <td>2</td>\n",
       "      <td>Villivakkam North Jagannath Nagar, Chennai, Ta...</td>\n",
       "      <td>₹ 12,000</td>\n",
       "    </tr>\n",
       "    <tr>\n",
       "      <th>1197</th>\n",
       "      <td>Houses &amp; Villas</td>\n",
       "      <td>1</td>\n",
       "      <td>1</td>\n",
       "      <td>Unfurnished</td>\n",
       "      <td>00</td>\n",
       "      <td>0</td>\n",
       "      <td>வணக்கம்</td>\n",
       "      <td>0</td>\n",
       "      <td>Veerapandi, Tiruppur, Tamil Nadu</td>\n",
       "      <td>₹ 4,000</td>\n",
       "    </tr>\n",
       "    <tr>\n",
       "      <th>1198</th>\n",
       "      <td>Apartments</td>\n",
       "      <td>2</td>\n",
       "      <td>2</td>\n",
       "      <td>Semi-Furnished</td>\n",
       "      <td>1085</td>\n",
       "      <td>2200</td>\n",
       "      <td>North</td>\n",
       "      <td>4</td>\n",
       "      <td>Arcot Road, Chennai, Tamil Nadu</td>\n",
       "      <td>₹ 22,000</td>\n",
       "    </tr>\n",
       "    <tr>\n",
       "      <th>1199</th>\n",
       "      <td>Houses &amp; Villas</td>\n",
       "      <td>2</td>\n",
       "      <td>2</td>\n",
       "      <td>Semi-Furnished</td>\n",
       "      <td>780</td>\n",
       "      <td>500</td>\n",
       "      <td>West</td>\n",
       "      <td>1</td>\n",
       "      <td>Chromepet Kumarapuram, Chennai, Tamil Nadu</td>\n",
       "      <td>₹ 11,000</td>\n",
       "    </tr>\n",
       "  </tbody>\n",
       "</table>\n",
       "<p>560 rows × 10 columns</p>\n",
       "</div>"
      ],
      "text/plain": [
       "                 Type bedroom bathroom      furnishing Carpet Area (ft²)  \\\n",
       "640        Apartments       3        3  Semi-Furnished              1600   \n",
       "641    Builder Floors       3        2  Semi-Furnished              1020   \n",
       "642        Apartments       2        2     Unfurnished              3200   \n",
       "643        Apartments       2        2     Unfurnished              1500   \n",
       "644        Apartments       3        3       Furnished              1300   \n",
       "...               ...     ...      ...             ...               ...   \n",
       "1195       Apartments       2        2  Semi-Furnished              1000   \n",
       "1196  Houses & Villas       2        1  Semi-Furnished               650   \n",
       "1197  Houses & Villas       1        1     Unfurnished                00   \n",
       "1198       Apartments       2        2  Semi-Furnished              1085   \n",
       "1199  Houses & Villas       2        2  Semi-Furnished               780   \n",
       "\n",
       "      Maintenance (Monthly)  \\\n",
       "640                    3000   \n",
       "641                       0   \n",
       "642                     200   \n",
       "643                       3   \n",
       "644                    1500   \n",
       "...                     ...   \n",
       "1195                    400   \n",
       "1196                      0   \n",
       "1197                      0   \n",
       "1198                   2200   \n",
       "1199                    500   \n",
       "\n",
       "                                                 facing  Total floor  \\\n",
       "640                                          North-East           12   \n",
       "641                                          North-East            5   \n",
       "642                                          South-East            3   \n",
       "643   VDA COLONY PHASE-1 NEAR DR BHIM RAO AMBEDKAR H...            1   \n",
       "644                                          North-West            6   \n",
       "...                                                 ...          ...   \n",
       "1195                                              North            2   \n",
       "1196                                              South            2   \n",
       "1197                                            வணக்கம்            0   \n",
       "1198                                              North            4   \n",
       "1199                                               West            1   \n",
       "\n",
       "                                                  state      Rent  \n",
       "640                 Gomti Nagar, Lucknow, Uttar Pradesh  ₹ 16,000  \n",
       "641               Noida Extension, Noida, Uttar Pradesh   ₹ 8,650  \n",
       "642                  Kursi Road, Lucknow, Uttar Pradesh   ₹ 7,500  \n",
       "643                 VDA Colony, Varanasi, Uttar Pradesh  ₹ 11,000  \n",
       "644                    Sector 104, Noida, Uttar Pradesh  ₹ 25,000  \n",
       "...                                                 ...       ...  \n",
       "1195         Chromepet Radha Nagar, Chennai, Tamil Nadu  ₹ 10,000  \n",
       "1196  Villivakkam North Jagannath Nagar, Chennai, Ta...  ₹ 12,000  \n",
       "1197                   Veerapandi, Tiruppur, Tamil Nadu   ₹ 4,000  \n",
       "1198                    Arcot Road, Chennai, Tamil Nadu  ₹ 22,000  \n",
       "1199         Chromepet Kumarapuram, Chennai, Tamil Nadu  ₹ 11,000  \n",
       "\n",
       "[560 rows x 10 columns]"
      ]
     },
     "execution_count": 6,
     "metadata": {},
     "output_type": "execute_result"
    }
   ],
   "source": [
    "data.iloc[640:,:]"
   ]
  },
  {
   "cell_type": "code",
   "execution_count": 7,
   "metadata": {},
   "outputs": [
    {
     "data": {
      "text/plain": [
       "-1        302\n",
       " 0        279\n",
       " 500       79\n",
       " 1000      45\n",
       " 100       37\n",
       "         ... \n",
       " 875        1\n",
       " 6000       1\n",
       " 14000      1\n",
       " 1335       1\n",
       " 900        1\n",
       "Name: Maintenance (Monthly), Length: 100, dtype: int64"
      ]
     },
     "execution_count": 7,
     "metadata": {},
     "output_type": "execute_result"
    }
   ],
   "source": [
    "data['Maintenance (Monthly)'].value_counts()"
   ]
  },
  {
   "cell_type": "code",
   "execution_count": 8,
   "metadata": {},
   "outputs": [],
   "source": [
    "df=data[data['Maintenance (Monthly)']!=-1]"
   ]
  },
  {
   "cell_type": "code",
   "execution_count": 9,
   "metadata": {},
   "outputs": [
    {
     "data": {
      "text/plain": [
       "(898, 10)"
      ]
     },
     "execution_count": 9,
     "metadata": {},
     "output_type": "execute_result"
    }
   ],
   "source": [
    "df.shape"
   ]
  },
  {
   "cell_type": "code",
   "execution_count": 10,
   "metadata": {},
   "outputs": [
    {
     "data": {
      "text/plain": [
       "0        279\n",
       "500       79\n",
       "1000      45\n",
       "100       37\n",
       "1500      32\n",
       "        ... \n",
       "875        1\n",
       "6000       1\n",
       "14000      1\n",
       "1335       1\n",
       "900        1\n",
       "Name: Maintenance (Monthly), Length: 99, dtype: int64"
      ]
     },
     "execution_count": 10,
     "metadata": {},
     "output_type": "execute_result"
    }
   ],
   "source": [
    "df['Maintenance (Monthly)'].value_counts()"
   ]
  },
  {
   "cell_type": "code",
   "execution_count": 11,
   "metadata": {},
   "outputs": [],
   "source": [
    "df=df.drop_duplicates(ignore_index=True)"
   ]
  },
  {
   "cell_type": "code",
   "execution_count": 12,
   "metadata": {},
   "outputs": [
    {
     "data": {
      "text/plain": [
       "(887, 10)"
      ]
     },
     "execution_count": 12,
     "metadata": {},
     "output_type": "execute_result"
    }
   ],
   "source": [
    "df.shape"
   ]
  },
  {
   "cell_type": "code",
   "execution_count": 13,
   "metadata": {},
   "outputs": [
    {
     "data": {
      "text/html": [
       "<div>\n",
       "<style scoped>\n",
       "    .dataframe tbody tr th:only-of-type {\n",
       "        vertical-align: middle;\n",
       "    }\n",
       "\n",
       "    .dataframe tbody tr th {\n",
       "        vertical-align: top;\n",
       "    }\n",
       "\n",
       "    .dataframe thead th {\n",
       "        text-align: right;\n",
       "    }\n",
       "</style>\n",
       "<table border=\"1\" class=\"dataframe\">\n",
       "  <thead>\n",
       "    <tr style=\"text-align: right;\">\n",
       "      <th></th>\n",
       "      <th>Type</th>\n",
       "      <th>bedroom</th>\n",
       "      <th>bathroom</th>\n",
       "      <th>furnishing</th>\n",
       "      <th>Carpet Area (ft²)</th>\n",
       "      <th>Maintenance (Monthly)</th>\n",
       "      <th>facing</th>\n",
       "      <th>Total floor</th>\n",
       "      <th>state</th>\n",
       "      <th>Rent</th>\n",
       "    </tr>\n",
       "  </thead>\n",
       "  <tbody>\n",
       "    <tr>\n",
       "      <th>0</th>\n",
       "      <td>Apartments</td>\n",
       "      <td>2</td>\n",
       "      <td>2</td>\n",
       "      <td>Semi-Furnished</td>\n",
       "      <td>700</td>\n",
       "      <td>4000</td>\n",
       "      <td>North-East</td>\n",
       "      <td>6</td>\n",
       "      <td>Andheri East, Mumbai, Maharashtra</td>\n",
       "      <td>₹ 42,000</td>\n",
       "    </tr>\n",
       "    <tr>\n",
       "      <th>1</th>\n",
       "      <td>Apartments</td>\n",
       "      <td>1</td>\n",
       "      <td>2</td>\n",
       "      <td>Furnished</td>\n",
       "      <td>399</td>\n",
       "      <td>999</td>\n",
       "      <td>East</td>\n",
       "      <td>4</td>\n",
       "      <td>Andheri East, Mumbai, Maharashtra</td>\n",
       "      <td>₹ 20,000</td>\n",
       "    </tr>\n",
       "    <tr>\n",
       "      <th>2</th>\n",
       "      <td>Apartments</td>\n",
       "      <td>1</td>\n",
       "      <td>1</td>\n",
       "      <td>Furnished</td>\n",
       "      <td>550</td>\n",
       "      <td>5500</td>\n",
       "      <td>North-East</td>\n",
       "      <td>3</td>\n",
       "      <td>Chikhali, Pune, Maharashtra</td>\n",
       "      <td>₹ 5,500</td>\n",
       "    </tr>\n",
       "    <tr>\n",
       "      <th>3</th>\n",
       "      <td>Apartments</td>\n",
       "      <td>2</td>\n",
       "      <td>2</td>\n",
       "      <td>Semi-Furnished</td>\n",
       "      <td>800</td>\n",
       "      <td>1000</td>\n",
       "      <td>East</td>\n",
       "      <td>4</td>\n",
       "      <td>Model Colony, Nashik, Maharashtra</td>\n",
       "      <td>₹ 15,000</td>\n",
       "    </tr>\n",
       "    <tr>\n",
       "      <th>4</th>\n",
       "      <td>Apartments</td>\n",
       "      <td>3</td>\n",
       "      <td>3</td>\n",
       "      <td>Furnished</td>\n",
       "      <td>1800</td>\n",
       "      <td>2000</td>\n",
       "      <td>East</td>\n",
       "      <td>5</td>\n",
       "      <td>Serene Meadows, Nashik, Maharashtra</td>\n",
       "      <td>₹ 31,000</td>\n",
       "    </tr>\n",
       "  </tbody>\n",
       "</table>\n",
       "</div>"
      ],
      "text/plain": [
       "         Type bedroom bathroom      furnishing Carpet Area (ft²)  \\\n",
       "0  Apartments       2        2  Semi-Furnished               700   \n",
       "1  Apartments       1        2       Furnished               399   \n",
       "2  Apartments       1        1       Furnished               550   \n",
       "3  Apartments       2        2  Semi-Furnished               800   \n",
       "4  Apartments       3        3       Furnished              1800   \n",
       "\n",
       "   Maintenance (Monthly)      facing  Total floor  \\\n",
       "0                   4000  North-East            6   \n",
       "1                    999        East            4   \n",
       "2                   5500  North-East            3   \n",
       "3                   1000        East            4   \n",
       "4                   2000        East            5   \n",
       "\n",
       "                                 state      Rent  \n",
       "0    Andheri East, Mumbai, Maharashtra  ₹ 42,000  \n",
       "1    Andheri East, Mumbai, Maharashtra  ₹ 20,000  \n",
       "2          Chikhali, Pune, Maharashtra   ₹ 5,500  \n",
       "3    Model Colony, Nashik, Maharashtra  ₹ 15,000  \n",
       "4  Serene Meadows, Nashik, Maharashtra  ₹ 31,000  "
      ]
     },
     "execution_count": 13,
     "metadata": {},
     "output_type": "execute_result"
    }
   ],
   "source": [
    "df.head()"
   ]
  },
  {
   "cell_type": "code",
   "execution_count": 14,
   "metadata": {},
   "outputs": [],
   "source": [
    "df['Rent'].replace(regex=True, inplace=True, to_replace=r'[^0-9.\\-]', value=r'')\n",
    "df['Rent'] = df['Rent'].astype('int64')"
   ]
  },
  {
   "cell_type": "code",
   "execution_count": 15,
   "metadata": {},
   "outputs": [
    {
     "data": {
      "text/plain": [
       "Apartments         467\n",
       "Houses & Villas    315\n",
       "Builder Floors     105\n",
       "Name: Type, dtype: int64"
      ]
     },
     "execution_count": 15,
     "metadata": {},
     "output_type": "execute_result"
    }
   ],
   "source": [
    "df.Type.value_counts()"
   ]
  },
  {
   "cell_type": "code",
   "execution_count": 16,
   "metadata": {},
   "outputs": [
    {
     "data": {
      "text/plain": [
       "2     429\n",
       "1     287\n",
       "3     148\n",
       "4      14\n",
       "4+      9\n",
       "Name: bedroom, dtype: int64"
      ]
     },
     "execution_count": 16,
     "metadata": {},
     "output_type": "execute_result"
    }
   ],
   "source": [
    "df.bedroom.value_counts()"
   ]
  },
  {
   "cell_type": "code",
   "execution_count": 17,
   "metadata": {},
   "outputs": [],
   "source": [
    "i=df[(df['bedroom']=='4+') ].index"
   ]
  },
  {
   "cell_type": "code",
   "execution_count": 18,
   "metadata": {},
   "outputs": [
    {
     "data": {
      "text/plain": [
       "Int64Index([170, 280, 310, 350, 464, 467, 542, 742, 776], dtype='int64')"
      ]
     },
     "execution_count": 18,
     "metadata": {},
     "output_type": "execute_result"
    }
   ],
   "source": [
    "i"
   ]
  },
  {
   "cell_type": "code",
   "execution_count": 19,
   "metadata": {},
   "outputs": [],
   "source": [
    "df.loc[i,'bedroom']=5"
   ]
  },
  {
   "cell_type": "code",
   "execution_count": 20,
   "metadata": {},
   "outputs": [],
   "source": [
    "df['bedroom'] = df['bedroom'].astype('int64')"
   ]
  },
  {
   "cell_type": "code",
   "execution_count": 21,
   "metadata": {},
   "outputs": [
    {
     "data": {
      "text/plain": [
       "2            409\n",
       "1            358\n",
       "3            103\n",
       "4             10\n",
       "4+             6\n",
       "Furnished      1\n",
       "Name: bathroom, dtype: int64"
      ]
     },
     "execution_count": 21,
     "metadata": {},
     "output_type": "execute_result"
    }
   ],
   "source": [
    "df.bathroom.value_counts()"
   ]
  },
  {
   "cell_type": "code",
   "execution_count": 22,
   "metadata": {},
   "outputs": [],
   "source": [
    "df.loc[563,'bathroom']=1"
   ]
  },
  {
   "cell_type": "code",
   "execution_count": 23,
   "metadata": {},
   "outputs": [],
   "source": [
    "i=df[(df['bathroom']=='4+') ].index"
   ]
  },
  {
   "cell_type": "code",
   "execution_count": 24,
   "metadata": {},
   "outputs": [],
   "source": [
    "df.loc[i,'bathroom']=5"
   ]
  },
  {
   "cell_type": "code",
   "execution_count": 25,
   "metadata": {},
   "outputs": [],
   "source": [
    "df['bathroom'] = df['bathroom'].astype('int64')"
   ]
  },
  {
   "cell_type": "code",
   "execution_count": 26,
   "metadata": {},
   "outputs": [
    {
     "data": {
      "text/plain": [
       "Semi-Furnished    434\n",
       "Unfurnished       257\n",
       "Furnished         194\n",
       "Builder             1\n",
       "Owner               1\n",
       "Name: furnishing, dtype: int64"
      ]
     },
     "execution_count": 26,
     "metadata": {},
     "output_type": "execute_result"
    }
   ],
   "source": [
    "df.furnishing.value_counts()"
   ]
  },
  {
   "cell_type": "code",
   "execution_count": 27,
   "metadata": {},
   "outputs": [
    {
     "data": {
      "text/html": [
       "<div>\n",
       "<style scoped>\n",
       "    .dataframe tbody tr th:only-of-type {\n",
       "        vertical-align: middle;\n",
       "    }\n",
       "\n",
       "    .dataframe tbody tr th {\n",
       "        vertical-align: top;\n",
       "    }\n",
       "\n",
       "    .dataframe thead th {\n",
       "        text-align: right;\n",
       "    }\n",
       "</style>\n",
       "<table border=\"1\" class=\"dataframe\">\n",
       "  <thead>\n",
       "    <tr style=\"text-align: right;\">\n",
       "      <th></th>\n",
       "      <th>Type</th>\n",
       "      <th>bedroom</th>\n",
       "      <th>bathroom</th>\n",
       "      <th>furnishing</th>\n",
       "      <th>Carpet Area (ft²)</th>\n",
       "      <th>Maintenance (Monthly)</th>\n",
       "      <th>facing</th>\n",
       "      <th>Total floor</th>\n",
       "      <th>state</th>\n",
       "      <th>Rent</th>\n",
       "    </tr>\n",
       "  </thead>\n",
       "  <tbody>\n",
       "    <tr>\n",
       "      <th>199</th>\n",
       "      <td>Apartments</td>\n",
       "      <td>1</td>\n",
       "      <td>1</td>\n",
       "      <td>Builder</td>\n",
       "      <td>Yes</td>\n",
       "      <td>2</td>\n",
       "      <td>SK APARTMENT</td>\n",
       "      <td>2</td>\n",
       "      <td>Mekkara, Thrippunithura, Kerala</td>\n",
       "      <td>7000</td>\n",
       "    </tr>\n",
       "    <tr>\n",
       "      <th>563</th>\n",
       "      <td>Houses &amp; Villas</td>\n",
       "      <td>2</td>\n",
       "      <td>1</td>\n",
       "      <td>Owner</td>\n",
       "      <td>Yes</td>\n",
       "      <td>1</td>\n",
       "      <td>Sakunthala nilayam</td>\n",
       "      <td>0</td>\n",
       "      <td>Maragondanahalli, Bengaluru, Karnataka</td>\n",
       "      <td>15000</td>\n",
       "    </tr>\n",
       "  </tbody>\n",
       "</table>\n",
       "</div>"
      ],
      "text/plain": [
       "                Type  bedroom  bathroom furnishing Carpet Area (ft²)  \\\n",
       "199       Apartments        1         1    Builder               Yes   \n",
       "563  Houses & Villas        2         1      Owner               Yes   \n",
       "\n",
       "     Maintenance (Monthly)              facing  Total floor  \\\n",
       "199                      2        SK APARTMENT            2   \n",
       "563                      1  Sakunthala nilayam            0   \n",
       "\n",
       "                                      state   Rent  \n",
       "199         Mekkara, Thrippunithura, Kerala   7000  \n",
       "563  Maragondanahalli, Bengaluru, Karnataka  15000  "
      ]
     },
     "execution_count": 27,
     "metadata": {},
     "output_type": "execute_result"
    }
   ],
   "source": [
    "df[(df['furnishing']=='Owner') | (df['furnishing']=='Builder')]"
   ]
  },
  {
   "cell_type": "code",
   "execution_count": 28,
   "metadata": {},
   "outputs": [],
   "source": [
    "df.loc[563,'furnishing']='Furnished'"
   ]
  },
  {
   "cell_type": "code",
   "execution_count": 29,
   "metadata": {},
   "outputs": [],
   "source": [
    "df.loc[199,'furnishing']='Semi-Furnished' #mode value"
   ]
  },
  {
   "cell_type": "code",
   "execution_count": 30,
   "metadata": {},
   "outputs": [
    {
     "data": {
      "text/plain": [
       "Semi-Furnished    435\n",
       "Unfurnished       257\n",
       "Furnished         195\n",
       "Name: furnishing, dtype: int64"
      ]
     },
     "execution_count": 30,
     "metadata": {},
     "output_type": "execute_result"
    }
   ],
   "source": [
    "df.furnishing.value_counts()"
   ]
  },
  {
   "cell_type": "code",
   "execution_count": 31,
   "metadata": {},
   "outputs": [
    {
     "data": {
      "text/plain": [
       "East                                         321\n",
       "North                                        142\n",
       "North-East                                   119\n",
       "West                                          75\n",
       "South                                         47\n",
       "                                            ... \n",
       "S&S builders                                   1\n",
       "Independent house for rent in Uliyil town      1\n",
       "Shagun                                         1\n",
       "Apartment for Rent                             1\n",
       "வணக்கம்                                        1\n",
       "Name: facing, Length: 137, dtype: int64"
      ]
     },
     "execution_count": 31,
     "metadata": {},
     "output_type": "execute_result"
    }
   ],
   "source": [
    "df.facing.value_counts()"
   ]
  },
  {
   "cell_type": "code",
   "execution_count": 32,
   "metadata": {},
   "outputs": [],
   "source": [
    "i=df[(df['facing']!= 'East' )&( df['facing']!='North-East') & (df['facing']!='North') & (df['facing']!='West') & (df['facing']!='South')&( df['facing']!='North-West')&( df['facing']!='South-East')&( df['facing']!='South-West')].index"
   ]
  },
  {
   "cell_type": "code",
   "execution_count": 33,
   "metadata": {},
   "outputs": [],
   "source": [
    "df.loc[i,'facing']='others'"
   ]
  },
  {
   "cell_type": "code",
   "execution_count": 34,
   "metadata": {},
   "outputs": [
    {
     "data": {
      "text/plain": [
       "East          321\n",
       "North         142\n",
       "others        140\n",
       "North-East    119\n",
       "West           75\n",
       "South          47\n",
       "North-West     23\n",
       "South-East     13\n",
       "South-West      7\n",
       "Name: facing, dtype: int64"
      ]
     },
     "execution_count": 34,
     "metadata": {},
     "output_type": "execute_result"
    }
   ],
   "source": [
    "df.facing.value_counts()"
   ]
  },
  {
   "cell_type": "code",
   "execution_count": 35,
   "metadata": {},
   "outputs": [
    {
     "data": {
      "text/plain": [
       "2     214\n",
       "1     155\n",
       "3     140\n",
       "4      98\n",
       "5      46\n",
       "0      34\n",
       "7      28\n",
       "12     19\n",
       "6      16\n",
       "15     16\n",
       "19     13\n",
       "11     13\n",
       "14     11\n",
       "13     11\n",
       "10     10\n",
       "8       9\n",
       "22      8\n",
       "24      6\n",
       "9       5\n",
       "17      5\n",
       "25      4\n",
       "20      4\n",
       "26      4\n",
       "18      3\n",
       "16      3\n",
       "21      3\n",
       "23      2\n",
       "27      2\n",
       "30      2\n",
       "32      2\n",
       "28      1\n",
       "Name: Total floor, dtype: int64"
      ]
     },
     "execution_count": 35,
     "metadata": {},
     "output_type": "execute_result"
    }
   ],
   "source": [
    "df['Total floor'].value_counts()"
   ]
  },
  {
   "cell_type": "code",
   "execution_count": 36,
   "metadata": {},
   "outputs": [
    {
     "data": {
      "text/plain": [
       "1000    54\n",
       "800     40\n",
       "1200    38\n",
       "600     36\n",
       "500     33\n",
       "        ..\n",
       "1320     1\n",
       "2700     1\n",
       "399      1\n",
       "1412     1\n",
       "1085     1\n",
       "Name: Carpet Area (ft²), Length: 199, dtype: int64"
      ]
     },
     "execution_count": 36,
     "metadata": {},
     "output_type": "execute_result"
    }
   ],
   "source": [
    "df['Carpet Area (ft²)'].value_counts()"
   ]
  },
  {
   "cell_type": "code",
   "execution_count": 37,
   "metadata": {},
   "outputs": [
    {
     "data": {
      "text/html": [
       "<div>\n",
       "<style scoped>\n",
       "    .dataframe tbody tr th:only-of-type {\n",
       "        vertical-align: middle;\n",
       "    }\n",
       "\n",
       "    .dataframe tbody tr th {\n",
       "        vertical-align: top;\n",
       "    }\n",
       "\n",
       "    .dataframe thead th {\n",
       "        text-align: right;\n",
       "    }\n",
       "</style>\n",
       "<table border=\"1\" class=\"dataframe\">\n",
       "  <thead>\n",
       "    <tr style=\"text-align: right;\">\n",
       "      <th></th>\n",
       "      <th>Type</th>\n",
       "      <th>bedroom</th>\n",
       "      <th>bathroom</th>\n",
       "      <th>furnishing</th>\n",
       "      <th>Carpet Area (ft²)</th>\n",
       "      <th>Maintenance (Monthly)</th>\n",
       "      <th>facing</th>\n",
       "      <th>Total floor</th>\n",
       "      <th>state</th>\n",
       "      <th>Rent</th>\n",
       "    </tr>\n",
       "  </thead>\n",
       "  <tbody>\n",
       "    <tr>\n",
       "      <th>191</th>\n",
       "      <td>Apartments</td>\n",
       "      <td>3</td>\n",
       "      <td>3</td>\n",
       "      <td>Unfurnished</td>\n",
       "      <td>Yes</td>\n",
       "      <td>5</td>\n",
       "      <td>others</td>\n",
       "      <td>1</td>\n",
       "      <td>Mundamveli, Kochi, Kerala</td>\n",
       "      <td>12000</td>\n",
       "    </tr>\n",
       "    <tr>\n",
       "      <th>199</th>\n",
       "      <td>Apartments</td>\n",
       "      <td>1</td>\n",
       "      <td>1</td>\n",
       "      <td>Semi-Furnished</td>\n",
       "      <td>Yes</td>\n",
       "      <td>2</td>\n",
       "      <td>others</td>\n",
       "      <td>2</td>\n",
       "      <td>Mekkara, Thrippunithura, Kerala</td>\n",
       "      <td>7000</td>\n",
       "    </tr>\n",
       "    <tr>\n",
       "      <th>563</th>\n",
       "      <td>Houses &amp; Villas</td>\n",
       "      <td>2</td>\n",
       "      <td>1</td>\n",
       "      <td>Furnished</td>\n",
       "      <td>Yes</td>\n",
       "      <td>1</td>\n",
       "      <td>others</td>\n",
       "      <td>0</td>\n",
       "      <td>Maragondanahalli, Bengaluru, Karnataka</td>\n",
       "      <td>15000</td>\n",
       "    </tr>\n",
       "  </tbody>\n",
       "</table>\n",
       "</div>"
      ],
      "text/plain": [
       "                Type  bedroom  bathroom      furnishing Carpet Area (ft²)  \\\n",
       "191       Apartments        3         3     Unfurnished               Yes   \n",
       "199       Apartments        1         1  Semi-Furnished               Yes   \n",
       "563  Houses & Villas        2         1       Furnished               Yes   \n",
       "\n",
       "     Maintenance (Monthly)  facing  Total floor  \\\n",
       "191                      5  others            1   \n",
       "199                      2  others            2   \n",
       "563                      1  others            0   \n",
       "\n",
       "                                      state   Rent  \n",
       "191               Mundamveli, Kochi, Kerala  12000  \n",
       "199         Mekkara, Thrippunithura, Kerala   7000  \n",
       "563  Maragondanahalli, Bengaluru, Karnataka  15000  "
      ]
     },
     "execution_count": 37,
     "metadata": {},
     "output_type": "execute_result"
    }
   ],
   "source": [
    "df[df['Carpet Area (ft²)']=='Yes']"
   ]
  },
  {
   "cell_type": "code",
   "execution_count": 38,
   "metadata": {},
   "outputs": [],
   "source": [
    "df.loc[[563,199,191],'Carpet Area (ft²)']=np.NaN"
   ]
  },
  {
   "cell_type": "code",
   "execution_count": 39,
   "metadata": {},
   "outputs": [
    {
     "data": {
      "text/html": [
       "<div>\n",
       "<style scoped>\n",
       "    .dataframe tbody tr th:only-of-type {\n",
       "        vertical-align: middle;\n",
       "    }\n",
       "\n",
       "    .dataframe tbody tr th {\n",
       "        vertical-align: top;\n",
       "    }\n",
       "\n",
       "    .dataframe thead th {\n",
       "        text-align: right;\n",
       "    }\n",
       "</style>\n",
       "<table border=\"1\" class=\"dataframe\">\n",
       "  <thead>\n",
       "    <tr style=\"text-align: right;\">\n",
       "      <th></th>\n",
       "      <th>Type</th>\n",
       "      <th>bedroom</th>\n",
       "      <th>bathroom</th>\n",
       "      <th>furnishing</th>\n",
       "      <th>Carpet Area (ft²)</th>\n",
       "      <th>Maintenance (Monthly)</th>\n",
       "      <th>facing</th>\n",
       "      <th>Total floor</th>\n",
       "      <th>state</th>\n",
       "      <th>Rent</th>\n",
       "    </tr>\n",
       "  </thead>\n",
       "  <tbody>\n",
       "    <tr>\n",
       "      <th>61</th>\n",
       "      <td>Apartments</td>\n",
       "      <td>1</td>\n",
       "      <td>1</td>\n",
       "      <td>Unfurnished</td>\n",
       "      <td>No</td>\n",
       "      <td>4</td>\n",
       "      <td>others</td>\n",
       "      <td>1</td>\n",
       "      <td>Keshav Nagar, Pune, Maharashtra</td>\n",
       "      <td>5000</td>\n",
       "    </tr>\n",
       "  </tbody>\n",
       "</table>\n",
       "</div>"
      ],
      "text/plain": [
       "          Type  bedroom  bathroom   furnishing Carpet Area (ft²)  \\\n",
       "61  Apartments        1         1  Unfurnished                No   \n",
       "\n",
       "    Maintenance (Monthly)  facing  Total floor  \\\n",
       "61                      4  others            1   \n",
       "\n",
       "                              state  Rent  \n",
       "61  Keshav Nagar, Pune, Maharashtra  5000  "
      ]
     },
     "execution_count": 39,
     "metadata": {},
     "output_type": "execute_result"
    }
   ],
   "source": [
    "df[df['Carpet Area (ft²)']=='No']"
   ]
  },
  {
   "cell_type": "code",
   "execution_count": 40,
   "metadata": {},
   "outputs": [],
   "source": [
    "df.loc[61,'Carpet Area (ft²)']=np.NaN"
   ]
  },
  {
   "cell_type": "code",
   "execution_count": 41,
   "metadata": {},
   "outputs": [],
   "source": [
    "df['Carpet Area (ft²)'] = df['Carpet Area (ft²)'].astype('float64')"
   ]
  },
  {
   "cell_type": "code",
   "execution_count": 42,
   "metadata": {},
   "outputs": [
    {
     "data": {
      "text/plain": [
       "7005565310.0"
      ]
     },
     "execution_count": 42,
     "metadata": {},
     "output_type": "execute_result"
    }
   ],
   "source": [
    "df['Carpet Area (ft²)'].max()"
   ]
  },
  {
   "cell_type": "code",
   "execution_count": 43,
   "metadata": {},
   "outputs": [
    {
     "data": {
      "text/html": [
       "<div>\n",
       "<style scoped>\n",
       "    .dataframe tbody tr th:only-of-type {\n",
       "        vertical-align: middle;\n",
       "    }\n",
       "\n",
       "    .dataframe tbody tr th {\n",
       "        vertical-align: top;\n",
       "    }\n",
       "\n",
       "    .dataframe thead th {\n",
       "        text-align: right;\n",
       "    }\n",
       "</style>\n",
       "<table border=\"1\" class=\"dataframe\">\n",
       "  <thead>\n",
       "    <tr style=\"text-align: right;\">\n",
       "      <th></th>\n",
       "      <th>Type</th>\n",
       "      <th>bedroom</th>\n",
       "      <th>bathroom</th>\n",
       "      <th>furnishing</th>\n",
       "      <th>Carpet Area (ft²)</th>\n",
       "      <th>Maintenance (Monthly)</th>\n",
       "      <th>facing</th>\n",
       "      <th>Total floor</th>\n",
       "      <th>state</th>\n",
       "      <th>Rent</th>\n",
       "    </tr>\n",
       "  </thead>\n",
       "  <tbody>\n",
       "    <tr>\n",
       "      <th>422</th>\n",
       "      <td>Houses &amp; Villas</td>\n",
       "      <td>1</td>\n",
       "      <td>1</td>\n",
       "      <td>Semi-Furnished</td>\n",
       "      <td>7.005565e+09</td>\n",
       "      <td>1</td>\n",
       "      <td>others</td>\n",
       "      <td>1</td>\n",
       "      <td>Kankarkhera, Meerut, Uttar Pradesh</td>\n",
       "      <td>3800</td>\n",
       "    </tr>\n",
       "  </tbody>\n",
       "</table>\n",
       "</div>"
      ],
      "text/plain": [
       "                Type  bedroom  bathroom      furnishing  Carpet Area (ft²)  \\\n",
       "422  Houses & Villas        1         1  Semi-Furnished       7.005565e+09   \n",
       "\n",
       "     Maintenance (Monthly)  facing  Total floor  \\\n",
       "422                      1  others            1   \n",
       "\n",
       "                                  state  Rent  \n",
       "422  Kankarkhera, Meerut, Uttar Pradesh  3800  "
      ]
     },
     "execution_count": 43,
     "metadata": {},
     "output_type": "execute_result"
    }
   ],
   "source": [
    "df[df['Carpet Area (ft²)']==7005565310.0]"
   ]
  },
  {
   "cell_type": "code",
   "execution_count": 44,
   "metadata": {},
   "outputs": [],
   "source": [
    "i=df[df['Carpet Area (ft²)']<100].index"
   ]
  },
  {
   "cell_type": "code",
   "execution_count": 45,
   "metadata": {},
   "outputs": [],
   "source": [
    "df.loc[i,'Carpet Area (ft²)']=np.NaN"
   ]
  },
  {
   "cell_type": "code",
   "execution_count": 46,
   "metadata": {},
   "outputs": [],
   "source": [
    "df.loc[422,'Carpet Area (ft²)']=np.NaN"
   ]
  },
  {
   "cell_type": "code",
   "execution_count": 47,
   "metadata": {},
   "outputs": [
    {
     "data": {
      "text/html": [
       "<div>\n",
       "<style scoped>\n",
       "    .dataframe tbody tr th:only-of-type {\n",
       "        vertical-align: middle;\n",
       "    }\n",
       "\n",
       "    .dataframe tbody tr th {\n",
       "        vertical-align: top;\n",
       "    }\n",
       "\n",
       "    .dataframe thead th {\n",
       "        text-align: right;\n",
       "    }\n",
       "</style>\n",
       "<table border=\"1\" class=\"dataframe\">\n",
       "  <thead>\n",
       "    <tr style=\"text-align: right;\">\n",
       "      <th></th>\n",
       "      <th>Type</th>\n",
       "      <th>bedroom</th>\n",
       "      <th>bathroom</th>\n",
       "      <th>furnishing</th>\n",
       "      <th>Carpet Area (ft²)</th>\n",
       "      <th>Maintenance (Monthly)</th>\n",
       "      <th>facing</th>\n",
       "      <th>Total floor</th>\n",
       "      <th>state</th>\n",
       "      <th>Rent</th>\n",
       "    </tr>\n",
       "  </thead>\n",
       "  <tbody>\n",
       "    <tr>\n",
       "      <th>0</th>\n",
       "      <td>Apartments</td>\n",
       "      <td>2</td>\n",
       "      <td>2</td>\n",
       "      <td>Semi-Furnished</td>\n",
       "      <td>700.0</td>\n",
       "      <td>4000</td>\n",
       "      <td>North-East</td>\n",
       "      <td>6</td>\n",
       "      <td>Andheri East, Mumbai, Maharashtra</td>\n",
       "      <td>42000</td>\n",
       "    </tr>\n",
       "    <tr>\n",
       "      <th>1</th>\n",
       "      <td>Apartments</td>\n",
       "      <td>1</td>\n",
       "      <td>2</td>\n",
       "      <td>Furnished</td>\n",
       "      <td>399.0</td>\n",
       "      <td>999</td>\n",
       "      <td>East</td>\n",
       "      <td>4</td>\n",
       "      <td>Andheri East, Mumbai, Maharashtra</td>\n",
       "      <td>20000</td>\n",
       "    </tr>\n",
       "    <tr>\n",
       "      <th>2</th>\n",
       "      <td>Apartments</td>\n",
       "      <td>1</td>\n",
       "      <td>1</td>\n",
       "      <td>Furnished</td>\n",
       "      <td>550.0</td>\n",
       "      <td>5500</td>\n",
       "      <td>North-East</td>\n",
       "      <td>3</td>\n",
       "      <td>Chikhali, Pune, Maharashtra</td>\n",
       "      <td>5500</td>\n",
       "    </tr>\n",
       "    <tr>\n",
       "      <th>3</th>\n",
       "      <td>Apartments</td>\n",
       "      <td>2</td>\n",
       "      <td>2</td>\n",
       "      <td>Semi-Furnished</td>\n",
       "      <td>800.0</td>\n",
       "      <td>1000</td>\n",
       "      <td>East</td>\n",
       "      <td>4</td>\n",
       "      <td>Model Colony, Nashik, Maharashtra</td>\n",
       "      <td>15000</td>\n",
       "    </tr>\n",
       "    <tr>\n",
       "      <th>4</th>\n",
       "      <td>Apartments</td>\n",
       "      <td>3</td>\n",
       "      <td>3</td>\n",
       "      <td>Furnished</td>\n",
       "      <td>1800.0</td>\n",
       "      <td>2000</td>\n",
       "      <td>East</td>\n",
       "      <td>5</td>\n",
       "      <td>Serene Meadows, Nashik, Maharashtra</td>\n",
       "      <td>31000</td>\n",
       "    </tr>\n",
       "    <tr>\n",
       "      <th>...</th>\n",
       "      <td>...</td>\n",
       "      <td>...</td>\n",
       "      <td>...</td>\n",
       "      <td>...</td>\n",
       "      <td>...</td>\n",
       "      <td>...</td>\n",
       "      <td>...</td>\n",
       "      <td>...</td>\n",
       "      <td>...</td>\n",
       "      <td>...</td>\n",
       "    </tr>\n",
       "    <tr>\n",
       "      <th>882</th>\n",
       "      <td>Apartments</td>\n",
       "      <td>2</td>\n",
       "      <td>2</td>\n",
       "      <td>Semi-Furnished</td>\n",
       "      <td>1000.0</td>\n",
       "      <td>400</td>\n",
       "      <td>North</td>\n",
       "      <td>2</td>\n",
       "      <td>Chromepet Radha Nagar, Chennai, Tamil Nadu</td>\n",
       "      <td>10000</td>\n",
       "    </tr>\n",
       "    <tr>\n",
       "      <th>883</th>\n",
       "      <td>Houses &amp; Villas</td>\n",
       "      <td>2</td>\n",
       "      <td>1</td>\n",
       "      <td>Semi-Furnished</td>\n",
       "      <td>650.0</td>\n",
       "      <td>0</td>\n",
       "      <td>South</td>\n",
       "      <td>2</td>\n",
       "      <td>Villivakkam North Jagannath Nagar, Chennai, Ta...</td>\n",
       "      <td>12000</td>\n",
       "    </tr>\n",
       "    <tr>\n",
       "      <th>884</th>\n",
       "      <td>Houses &amp; Villas</td>\n",
       "      <td>1</td>\n",
       "      <td>1</td>\n",
       "      <td>Unfurnished</td>\n",
       "      <td>NaN</td>\n",
       "      <td>0</td>\n",
       "      <td>others</td>\n",
       "      <td>0</td>\n",
       "      <td>Veerapandi, Tiruppur, Tamil Nadu</td>\n",
       "      <td>4000</td>\n",
       "    </tr>\n",
       "    <tr>\n",
       "      <th>885</th>\n",
       "      <td>Apartments</td>\n",
       "      <td>2</td>\n",
       "      <td>2</td>\n",
       "      <td>Semi-Furnished</td>\n",
       "      <td>1085.0</td>\n",
       "      <td>2200</td>\n",
       "      <td>North</td>\n",
       "      <td>4</td>\n",
       "      <td>Arcot Road, Chennai, Tamil Nadu</td>\n",
       "      <td>22000</td>\n",
       "    </tr>\n",
       "    <tr>\n",
       "      <th>886</th>\n",
       "      <td>Houses &amp; Villas</td>\n",
       "      <td>2</td>\n",
       "      <td>2</td>\n",
       "      <td>Semi-Furnished</td>\n",
       "      <td>780.0</td>\n",
       "      <td>500</td>\n",
       "      <td>West</td>\n",
       "      <td>1</td>\n",
       "      <td>Chromepet Kumarapuram, Chennai, Tamil Nadu</td>\n",
       "      <td>11000</td>\n",
       "    </tr>\n",
       "  </tbody>\n",
       "</table>\n",
       "<p>887 rows × 10 columns</p>\n",
       "</div>"
      ],
      "text/plain": [
       "                Type  bedroom  bathroom      furnishing  Carpet Area (ft²)  \\\n",
       "0         Apartments        2         2  Semi-Furnished              700.0   \n",
       "1         Apartments        1         2       Furnished              399.0   \n",
       "2         Apartments        1         1       Furnished              550.0   \n",
       "3         Apartments        2         2  Semi-Furnished              800.0   \n",
       "4         Apartments        3         3       Furnished             1800.0   \n",
       "..               ...      ...       ...             ...                ...   \n",
       "882       Apartments        2         2  Semi-Furnished             1000.0   \n",
       "883  Houses & Villas        2         1  Semi-Furnished              650.0   \n",
       "884  Houses & Villas        1         1     Unfurnished                NaN   \n",
       "885       Apartments        2         2  Semi-Furnished             1085.0   \n",
       "886  Houses & Villas        2         2  Semi-Furnished              780.0   \n",
       "\n",
       "     Maintenance (Monthly)      facing  Total floor  \\\n",
       "0                     4000  North-East            6   \n",
       "1                      999        East            4   \n",
       "2                     5500  North-East            3   \n",
       "3                     1000        East            4   \n",
       "4                     2000        East            5   \n",
       "..                     ...         ...          ...   \n",
       "882                    400       North            2   \n",
       "883                      0       South            2   \n",
       "884                      0      others            0   \n",
       "885                   2200       North            4   \n",
       "886                    500        West            1   \n",
       "\n",
       "                                                 state   Rent  \n",
       "0                    Andheri East, Mumbai, Maharashtra  42000  \n",
       "1                    Andheri East, Mumbai, Maharashtra  20000  \n",
       "2                          Chikhali, Pune, Maharashtra   5500  \n",
       "3                    Model Colony, Nashik, Maharashtra  15000  \n",
       "4                  Serene Meadows, Nashik, Maharashtra  31000  \n",
       "..                                                 ...    ...  \n",
       "882         Chromepet Radha Nagar, Chennai, Tamil Nadu  10000  \n",
       "883  Villivakkam North Jagannath Nagar, Chennai, Ta...  12000  \n",
       "884                   Veerapandi, Tiruppur, Tamil Nadu   4000  \n",
       "885                    Arcot Road, Chennai, Tamil Nadu  22000  \n",
       "886         Chromepet Kumarapuram, Chennai, Tamil Nadu  11000  \n",
       "\n",
       "[887 rows x 10 columns]"
      ]
     },
     "execution_count": 47,
     "metadata": {},
     "output_type": "execute_result"
    }
   ],
   "source": [
    "df"
   ]
  },
  {
   "cell_type": "code",
   "execution_count": 48,
   "metadata": {},
   "outputs": [
    {
     "name": "stderr",
     "output_type": "stream",
     "text": [
      "c:\\users\\pulkit\\appdata\\local\\programs\\python\\python38\\lib\\site-packages\\seaborn\\categorical.py:1296: UserWarning: 75.8% of the points cannot be placed; you may want to decrease the size of the markers or use stripplot.\n",
      "  warnings.warn(msg, UserWarning)\n",
      "c:\\users\\pulkit\\appdata\\local\\programs\\python\\python38\\lib\\site-packages\\seaborn\\categorical.py:1296: UserWarning: 67.0% of the points cannot be placed; you may want to decrease the size of the markers or use stripplot.\n",
      "  warnings.warn(msg, UserWarning)\n",
      "c:\\users\\pulkit\\appdata\\local\\programs\\python\\python38\\lib\\site-packages\\seaborn\\categorical.py:1296: UserWarning: 36.2% of the points cannot be placed; you may want to decrease the size of the markers or use stripplot.\n",
      "  warnings.warn(msg, UserWarning)\n"
     ]
    },
    {
     "data": {
      "text/plain": [
       "<seaborn.axisgrid.FacetGrid at 0x135d7af0df0>"
      ]
     },
     "execution_count": 48,
     "metadata": {},
     "output_type": "execute_result"
    },
    {
     "data": {
      "image/png": "[encoded data removed]",
      "text/plain": [
       "<Figure size 360x360 with 1 Axes>"
      ]
     },
     "metadata": {
      "needs_background": "light"
     },
     "output_type": "display_data"
    }
   ],
   "source": [
    "sns.catplot(x=\"Type\", y=\"facing\", kind='swarm',data=df)"
   ]
  },
  {
   "cell_type": "code",
   "execution_count": 49,
   "metadata": {},
   "outputs": [
    {
     "data": {
      "text/plain": [
       "Index(['Type', 'bedroom', 'bathroom', 'furnishing', 'Carpet Area (ft²)',\n",
       "       'Maintenance (Monthly)', 'facing', 'Total floor', 'state', 'Rent'],\n",
       "      dtype='object')"
      ]
     },
     "execution_count": 49,
     "metadata": {},
     "output_type": "execute_result"
    }
   ],
   "source": [
    "df.columns"
   ]
  },
  {
   "cell_type": "code",
   "execution_count": 50,
   "metadata": {},
   "outputs": [
    {
     "data": {
      "text/plain": [
       "<AxesSubplot:xlabel='Total floor', ylabel='count'>"
      ]
     },
     "execution_count": 50,
     "metadata": {},
     "output_type": "execute_result"
    },
    {
     "data": {
      "image/png": "[encoded data removed]",
      "text/plain": [
       "<Figure size 720x576 with 1 Axes>"
      ]
     },
     "metadata": {
      "needs_background": "light"
     },
     "output_type": "display_data"
    }
   ],
   "source": [
    "plt.figure(figsize=(10,8))\n",
    "sns.countplot(x='Total floor',hue='facing',data=df)"
   ]
  },
  {
   "cell_type": "code",
   "execution_count": 51,
   "metadata": {
    "scrolled": true
   },
   "outputs": [
    {
     "data": {
      "image/png": "[encoded data removed]",
      "text/plain": [
       "<Figure size 1000x700 with 1 Axes>"
      ]
     },
     "metadata": {},
     "output_type": "display_data"
    }
   ],
   "source": [
    "prof = df['Type'].value_counts()\n",
    "\n",
    "plt.style.use('default')\n",
    "plt.figure(figsize=(10, 7))\n",
    "plt.pie(prof.values, labels=prof.index, startangle=10, shadow=True, autopct='%1.1f%%')\n",
    "plt.title('Type', fontdict={\n",
    "          'fontname': 'Monospace', 'fontsize': 20, 'fontweight': 'bold'})\n",
    "plt.legend()\n",
    "plt.legend(prop={'size': 7})\n",
    "plt.axis('equal')\n",
    "plt.show()"
   ]
  },
  {
   "cell_type": "code",
   "execution_count": 52,
   "metadata": {
    "scrolled": false
   },
   "outputs": [
    {
     "data": {
      "image/png": "[encoded data removed]",
      "text/plain": [
       "<Figure size 2000x500 with 1 Axes>"
      ]
     },
     "metadata": {},
     "output_type": "display_data"
    }
   ],
   "source": [
    "\n",
    "plt.figure(figsize=(20, 5))\n",
    "sns.countplot(x=\"furnishing\", data=df,palette='rainbow')\n",
    "plt.show()"
   ]
  },
  {
   "cell_type": "code",
   "execution_count": 53,
   "metadata": {},
   "outputs": [
    {
     "data": {
      "image/png": "[encoded data removed]",
      "text/plain": [
       "<Figure size 2000x500 with 1 Axes>"
      ]
     },
     "metadata": {},
     "output_type": "display_data"
    }
   ],
   "source": [
    "plt.figure(figsize=(20, 5))\n",
    "sns.countplot(x=\"facing\", data=df,palette='rainbow')\n",
    "plt.show()"
   ]
  },
  {
   "cell_type": "code",
   "execution_count": 54,
   "metadata": {
    "scrolled": true
   },
   "outputs": [
    {
     "data": {
      "text/plain": [
       "<seaborn.axisgrid.FacetGrid at 0x135d813d490>"
      ]
     },
     "execution_count": 54,
     "metadata": {},
     "output_type": "execute_result"
    },
    {
     "data": {
      "image/png": "[encoded data removed]",
      "text/plain": [
       "<Figure size 500x500 with 1 Axes>"
      ]
     },
     "metadata": {},
     "output_type": "display_data"
    }
   ],
   "source": [
    "import seaborn as sns\n",
    "sns.catplot(x=\"Type\", y=\"Total floor\",kind='strip',data=df)"
   ]
  },
  {
   "cell_type": "code",
   "execution_count": 55,
   "metadata": {},
   "outputs": [
    {
     "name": "stderr",
     "output_type": "stream",
     "text": [
      "c:\\users\\pulkit\\appdata\\local\\programs\\python\\python38\\lib\\site-packages\\seaborn\\_decorators.py:36: FutureWarning: Pass the following variable as a keyword arg: x. From version 0.12, the only valid positional argument will be `data`, and passing other arguments without an explicit keyword will result in an error or misinterpretation.\n",
      "  warnings.warn(\n",
      "c:\\users\\pulkit\\appdata\\local\\programs\\python\\python38\\lib\\site-packages\\seaborn\\_core.py:1303: UserWarning: Vertical orientation ignored with only `x` specified.\n",
      "  warnings.warn(single_var_warning.format(\"Vertical\", \"x\"))\n"
     ]
    },
    {
     "data": {
      "text/plain": [
       "<AxesSubplot:xlabel='bathroom'>"
      ]
     },
     "execution_count": 55,
     "metadata": {},
     "output_type": "execute_result"
    },
    {
     "data": {
      "image/png": "[encoded data removed]",
      "text/plain": [
       "<Figure size 640x480 with 1 Axes>"
      ]
     },
     "metadata": {},
     "output_type": "display_data"
    }
   ],
   "source": [
    "sns.violinplot(df['bathroom'], orient='vertical', color='magenta')"
   ]
  },
  {
   "cell_type": "code",
   "execution_count": 56,
   "metadata": {},
   "outputs": [
    {
     "name": "stderr",
     "output_type": "stream",
     "text": [
      "c:\\users\\pulkit\\appdata\\local\\programs\\python\\python38\\lib\\site-packages\\seaborn\\_decorators.py:36: FutureWarning: Pass the following variable as a keyword arg: x. From version 0.12, the only valid positional argument will be `data`, and passing other arguments without an explicit keyword will result in an error or misinterpretation.\n",
      "  warnings.warn(\n",
      "c:\\users\\pulkit\\appdata\\local\\programs\\python\\python38\\lib\\site-packages\\seaborn\\_core.py:1303: UserWarning: Vertical orientation ignored with only `x` specified.\n",
      "  warnings.warn(single_var_warning.format(\"Vertical\", \"x\"))\n"
     ]
    },
    {
     "data": {
      "text/plain": [
       "<AxesSubplot:xlabel='bedroom'>"
      ]
     },
     "execution_count": 56,
     "metadata": {},
     "output_type": "execute_result"
    },
    {
     "data": {
      "image/png": "[encoded data removed]",
      "text/plain": [
       "<Figure size 640x480 with 1 Axes>"
      ]
     },
     "metadata": {},
     "output_type": "display_data"
    }
   ],
   "source": [
    "sns.violinplot(df['bedroom'], orient='vertical', color='magenta')"
   ]
  },
  {
   "cell_type": "code",
   "execution_count": 57,
   "metadata": {
    "scrolled": true
   },
   "outputs": [
    {
     "data": {
      "text/plain": [
       "<AxesSubplot:>"
      ]
     },
     "execution_count": 57,
     "metadata": {},
     "output_type": "execute_result"
    },
    {
     "data": {
      "image/png": "[encoded data removed]",
      "text/plain": [
       "<Figure size 1000x800 with 1 Axes>"
      ]
     },
     "metadata": {},
     "output_type": "display_data"
    }
   ],
   "source": [
    "df['Carpet Area (ft²)'].hist(bins=3,figsize=(10,8))"
   ]
  },
  {
   "cell_type": "code",
   "execution_count": 58,
   "metadata": {},
   "outputs": [],
   "source": [
    "df['states']=df.state.apply(lambda x:x.split(',')[-1])"
   ]
  },
  {
   "cell_type": "code",
   "execution_count": 59,
   "metadata": {
    "scrolled": true
   },
   "outputs": [],
   "source": [
    "df['city']=df.state.apply(lambda x:x.split(',')[-2])"
   ]
  },
  {
   "cell_type": "code",
   "execution_count": 60,
   "metadata": {},
   "outputs": [
    {
     "data": {
      "text/html": [
       "<div>\n",
       "<style scoped>\n",
       "    .dataframe tbody tr th:only-of-type {\n",
       "        vertical-align: middle;\n",
       "    }\n",
       "\n",
       "    .dataframe tbody tr th {\n",
       "        vertical-align: top;\n",
       "    }\n",
       "\n",
       "    .dataframe thead th {\n",
       "        text-align: right;\n",
       "    }\n",
       "</style>\n",
       "<table border=\"1\" class=\"dataframe\">\n",
       "  <thead>\n",
       "    <tr style=\"text-align: right;\">\n",
       "      <th></th>\n",
       "      <th>Type</th>\n",
       "      <th>bedroom</th>\n",
       "      <th>bathroom</th>\n",
       "      <th>furnishing</th>\n",
       "      <th>Carpet Area (ft²)</th>\n",
       "      <th>Maintenance (Monthly)</th>\n",
       "      <th>facing</th>\n",
       "      <th>Total floor</th>\n",
       "      <th>state</th>\n",
       "      <th>Rent</th>\n",
       "      <th>states</th>\n",
       "      <th>city</th>\n",
       "    </tr>\n",
       "  </thead>\n",
       "  <tbody>\n",
       "    <tr>\n",
       "      <th>0</th>\n",
       "      <td>Apartments</td>\n",
       "      <td>2</td>\n",
       "      <td>2</td>\n",
       "      <td>Semi-Furnished</td>\n",
       "      <td>700.0</td>\n",
       "      <td>4000</td>\n",
       "      <td>North-East</td>\n",
       "      <td>6</td>\n",
       "      <td>Andheri East, Mumbai, Maharashtra</td>\n",
       "      <td>42000</td>\n",
       "      <td>Maharashtra</td>\n",
       "      <td>Mumbai</td>\n",
       "    </tr>\n",
       "    <tr>\n",
       "      <th>1</th>\n",
       "      <td>Apartments</td>\n",
       "      <td>1</td>\n",
       "      <td>2</td>\n",
       "      <td>Furnished</td>\n",
       "      <td>399.0</td>\n",
       "      <td>999</td>\n",
       "      <td>East</td>\n",
       "      <td>4</td>\n",
       "      <td>Andheri East, Mumbai, Maharashtra</td>\n",
       "      <td>20000</td>\n",
       "      <td>Maharashtra</td>\n",
       "      <td>Mumbai</td>\n",
       "    </tr>\n",
       "    <tr>\n",
       "      <th>2</th>\n",
       "      <td>Apartments</td>\n",
       "      <td>1</td>\n",
       "      <td>1</td>\n",
       "      <td>Furnished</td>\n",
       "      <td>550.0</td>\n",
       "      <td>5500</td>\n",
       "      <td>North-East</td>\n",
       "      <td>3</td>\n",
       "      <td>Chikhali, Pune, Maharashtra</td>\n",
       "      <td>5500</td>\n",
       "      <td>Maharashtra</td>\n",
       "      <td>Pune</td>\n",
       "    </tr>\n",
       "    <tr>\n",
       "      <th>3</th>\n",
       "      <td>Apartments</td>\n",
       "      <td>2</td>\n",
       "      <td>2</td>\n",
       "      <td>Semi-Furnished</td>\n",
       "      <td>800.0</td>\n",
       "      <td>1000</td>\n",
       "      <td>East</td>\n",
       "      <td>4</td>\n",
       "      <td>Model Colony, Nashik, Maharashtra</td>\n",
       "      <td>15000</td>\n",
       "      <td>Maharashtra</td>\n",
       "      <td>Nashik</td>\n",
       "    </tr>\n",
       "    <tr>\n",
       "      <th>4</th>\n",
       "      <td>Apartments</td>\n",
       "      <td>3</td>\n",
       "      <td>3</td>\n",
       "      <td>Furnished</td>\n",
       "      <td>1800.0</td>\n",
       "      <td>2000</td>\n",
       "      <td>East</td>\n",
       "      <td>5</td>\n",
       "      <td>Serene Meadows, Nashik, Maharashtra</td>\n",
       "      <td>31000</td>\n",
       "      <td>Maharashtra</td>\n",
       "      <td>Nashik</td>\n",
       "    </tr>\n",
       "  </tbody>\n",
       "</table>\n",
       "</div>"
      ],
      "text/plain": [
       "         Type  bedroom  bathroom      furnishing  Carpet Area (ft²)  \\\n",
       "0  Apartments        2         2  Semi-Furnished              700.0   \n",
       "1  Apartments        1         2       Furnished              399.0   \n",
       "2  Apartments        1         1       Furnished              550.0   \n",
       "3  Apartments        2         2  Semi-Furnished              800.0   \n",
       "4  Apartments        3         3       Furnished             1800.0   \n",
       "\n",
       "   Maintenance (Monthly)      facing  Total floor  \\\n",
       "0                   4000  North-East            6   \n",
       "1                    999        East            4   \n",
       "2                   5500  North-East            3   \n",
       "3                   1000        East            4   \n",
       "4                   2000        East            5   \n",
       "\n",
       "                                 state   Rent        states     city  \n",
       "0    Andheri East, Mumbai, Maharashtra  42000   Maharashtra   Mumbai  \n",
       "1    Andheri East, Mumbai, Maharashtra  20000   Maharashtra   Mumbai  \n",
       "2          Chikhali, Pune, Maharashtra   5500   Maharashtra     Pune  \n",
       "3    Model Colony, Nashik, Maharashtra  15000   Maharashtra   Nashik  \n",
       "4  Serene Meadows, Nashik, Maharashtra  31000   Maharashtra   Nashik  "
      ]
     },
     "execution_count": 60,
     "metadata": {},
     "output_type": "execute_result"
    }
   ],
   "source": [
    "df.head()"
   ]
  },
  {
   "cell_type": "code",
   "execution_count": 61,
   "metadata": {},
   "outputs": [],
   "source": [
    "df = df.loc[:,['Type','furnishing','Maintenance (Monthly)','states','city','bedroom','bathroom','Rent']]"
   ]
  },
  {
   "cell_type": "code",
   "execution_count": 62,
   "metadata": {},
   "outputs": [
    {
     "data": {
      "text/html": [
       "<div>\n",
       "<style scoped>\n",
       "    .dataframe tbody tr th:only-of-type {\n",
       "        vertical-align: middle;\n",
       "    }\n",
       "\n",
       "    .dataframe tbody tr th {\n",
       "        vertical-align: top;\n",
       "    }\n",
       "\n",
       "    .dataframe thead th {\n",
       "        text-align: right;\n",
       "    }\n",
       "</style>\n",
       "<table border=\"1\" class=\"dataframe\">\n",
       "  <thead>\n",
       "    <tr style=\"text-align: right;\">\n",
       "      <th></th>\n",
       "      <th>Type</th>\n",
       "      <th>furnishing</th>\n",
       "      <th>Maintenance (Monthly)</th>\n",
       "      <th>states</th>\n",
       "      <th>city</th>\n",
       "      <th>bedroom</th>\n",
       "      <th>bathroom</th>\n",
       "      <th>Rent</th>\n",
       "    </tr>\n",
       "  </thead>\n",
       "  <tbody>\n",
       "    <tr>\n",
       "      <th>0</th>\n",
       "      <td>Apartments</td>\n",
       "      <td>Semi-Furnished</td>\n",
       "      <td>4000</td>\n",
       "      <td>Maharashtra</td>\n",
       "      <td>Mumbai</td>\n",
       "      <td>2</td>\n",
       "      <td>2</td>\n",
       "      <td>42000</td>\n",
       "    </tr>\n",
       "    <tr>\n",
       "      <th>1</th>\n",
       "      <td>Apartments</td>\n",
       "      <td>Furnished</td>\n",
       "      <td>999</td>\n",
       "      <td>Maharashtra</td>\n",
       "      <td>Mumbai</td>\n",
       "      <td>1</td>\n",
       "      <td>2</td>\n",
       "      <td>20000</td>\n",
       "    </tr>\n",
       "    <tr>\n",
       "      <th>2</th>\n",
       "      <td>Apartments</td>\n",
       "      <td>Furnished</td>\n",
       "      <td>5500</td>\n",
       "      <td>Maharashtra</td>\n",
       "      <td>Pune</td>\n",
       "      <td>1</td>\n",
       "      <td>1</td>\n",
       "      <td>5500</td>\n",
       "    </tr>\n",
       "    <tr>\n",
       "      <th>3</th>\n",
       "      <td>Apartments</td>\n",
       "      <td>Semi-Furnished</td>\n",
       "      <td>1000</td>\n",
       "      <td>Maharashtra</td>\n",
       "      <td>Nashik</td>\n",
       "      <td>2</td>\n",
       "      <td>2</td>\n",
       "      <td>15000</td>\n",
       "    </tr>\n",
       "    <tr>\n",
       "      <th>4</th>\n",
       "      <td>Apartments</td>\n",
       "      <td>Furnished</td>\n",
       "      <td>2000</td>\n",
       "      <td>Maharashtra</td>\n",
       "      <td>Nashik</td>\n",
       "      <td>3</td>\n",
       "      <td>3</td>\n",
       "      <td>31000</td>\n",
       "    </tr>\n",
       "  </tbody>\n",
       "</table>\n",
       "</div>"
      ],
      "text/plain": [
       "         Type      furnishing  Maintenance (Monthly)        states     city  \\\n",
       "0  Apartments  Semi-Furnished                   4000   Maharashtra   Mumbai   \n",
       "1  Apartments       Furnished                    999   Maharashtra   Mumbai   \n",
       "2  Apartments       Furnished                   5500   Maharashtra     Pune   \n",
       "3  Apartments  Semi-Furnished                   1000   Maharashtra   Nashik   \n",
       "4  Apartments       Furnished                   2000   Maharashtra   Nashik   \n",
       "\n",
       "   bedroom  bathroom   Rent  \n",
       "0        2         2  42000  \n",
       "1        1         2  20000  \n",
       "2        1         1   5500  \n",
       "3        2         2  15000  \n",
       "4        3         3  31000  "
      ]
     },
     "execution_count": 62,
     "metadata": {},
     "output_type": "execute_result"
    }
   ],
   "source": [
    "df.head()"
   ]
  },
  {
   "cell_type": "code",
   "execution_count": 63,
   "metadata": {},
   "outputs": [
    {
     "data": {
      "text/plain": [
       "array([' Maharashtra', ' India', ' Kerala', ' Uttar Pradesh',\n",
       "       ' Karnataka', ' Tamil Nadu'], dtype=object)"
      ]
     },
     "execution_count": 63,
     "metadata": {},
     "output_type": "execute_result"
    }
   ],
   "source": [
    "df['states'].unique()"
   ]
  },
  {
   "cell_type": "code",
   "execution_count": 64,
   "metadata": {},
   "outputs": [
    {
     "data": {
      "text/plain": [
       "111"
      ]
     },
     "execution_count": 64,
     "metadata": {},
     "output_type": "execute_result"
    }
   ],
   "source": [
    "df['city'].nunique()"
   ]
  },
  {
   "cell_type": "code",
   "execution_count": 65,
   "metadata": {},
   "outputs": [
    {
     "data": {
      "text/plain": [
       " Uttar Pradesh    194\n",
       " Karnataka        191\n",
       " Tamil Nadu       188\n",
       " Maharashtra      179\n",
       " Kerala           133\n",
       " India              2\n",
       "Name: states, dtype: int64"
      ]
     },
     "execution_count": 65,
     "metadata": {},
     "output_type": "execute_result"
    }
   ],
   "source": [
    "df['states'].value_counts()"
   ]
  },
  {
   "cell_type": "code",
   "execution_count": 66,
   "metadata": {},
   "outputs": [],
   "source": [
    "df=df[df['states']!=' India']"
   ]
  },
  {
   "cell_type": "code",
   "execution_count": 67,
   "metadata": {},
   "outputs": [
    {
     "data": {
      "text/plain": [
       " Uttar Pradesh    194\n",
       " Karnataka        191\n",
       " Tamil Nadu       188\n",
       " Maharashtra      179\n",
       " Kerala           133\n",
       "Name: states, dtype: int64"
      ]
     },
     "execution_count": 67,
     "metadata": {},
     "output_type": "execute_result"
    }
   ],
   "source": [
    "df['states'].value_counts()"
   ]
  },
  {
   "cell_type": "code",
   "execution_count": 68,
   "metadata": {},
   "outputs": [
    {
     "data": {
      "text/html": [
       "<div>\n",
       "<style scoped>\n",
       "    .dataframe tbody tr th:only-of-type {\n",
       "        vertical-align: middle;\n",
       "    }\n",
       "\n",
       "    .dataframe tbody tr th {\n",
       "        vertical-align: top;\n",
       "    }\n",
       "\n",
       "    .dataframe thead th {\n",
       "        text-align: right;\n",
       "    }\n",
       "</style>\n",
       "<table border=\"1\" class=\"dataframe\">\n",
       "  <thead>\n",
       "    <tr style=\"text-align: right;\">\n",
       "      <th></th>\n",
       "      <th>Type</th>\n",
       "      <th>furnishing</th>\n",
       "      <th>Maintenance (Monthly)</th>\n",
       "      <th>states</th>\n",
       "      <th>city</th>\n",
       "      <th>bedroom</th>\n",
       "      <th>bathroom</th>\n",
       "      <th>Rent</th>\n",
       "    </tr>\n",
       "  </thead>\n",
       "  <tbody>\n",
       "    <tr>\n",
       "      <th>0</th>\n",
       "      <td>Apartments</td>\n",
       "      <td>Semi-Furnished</td>\n",
       "      <td>4000</td>\n",
       "      <td>Maharashtra</td>\n",
       "      <td>Mumbai</td>\n",
       "      <td>2</td>\n",
       "      <td>2</td>\n",
       "      <td>42000</td>\n",
       "    </tr>\n",
       "    <tr>\n",
       "      <th>1</th>\n",
       "      <td>Apartments</td>\n",
       "      <td>Furnished</td>\n",
       "      <td>999</td>\n",
       "      <td>Maharashtra</td>\n",
       "      <td>Mumbai</td>\n",
       "      <td>1</td>\n",
       "      <td>2</td>\n",
       "      <td>20000</td>\n",
       "    </tr>\n",
       "    <tr>\n",
       "      <th>2</th>\n",
       "      <td>Apartments</td>\n",
       "      <td>Furnished</td>\n",
       "      <td>5500</td>\n",
       "      <td>Maharashtra</td>\n",
       "      <td>Pune</td>\n",
       "      <td>1</td>\n",
       "      <td>1</td>\n",
       "      <td>5500</td>\n",
       "    </tr>\n",
       "    <tr>\n",
       "      <th>3</th>\n",
       "      <td>Apartments</td>\n",
       "      <td>Semi-Furnished</td>\n",
       "      <td>1000</td>\n",
       "      <td>Maharashtra</td>\n",
       "      <td>Nashik</td>\n",
       "      <td>2</td>\n",
       "      <td>2</td>\n",
       "      <td>15000</td>\n",
       "    </tr>\n",
       "    <tr>\n",
       "      <th>4</th>\n",
       "      <td>Apartments</td>\n",
       "      <td>Furnished</td>\n",
       "      <td>2000</td>\n",
       "      <td>Maharashtra</td>\n",
       "      <td>Nashik</td>\n",
       "      <td>3</td>\n",
       "      <td>3</td>\n",
       "      <td>31000</td>\n",
       "    </tr>\n",
       "  </tbody>\n",
       "</table>\n",
       "</div>"
      ],
      "text/plain": [
       "         Type      furnishing  Maintenance (Monthly)        states     city  \\\n",
       "0  Apartments  Semi-Furnished                   4000   Maharashtra   Mumbai   \n",
       "1  Apartments       Furnished                    999   Maharashtra   Mumbai   \n",
       "2  Apartments       Furnished                   5500   Maharashtra     Pune   \n",
       "3  Apartments  Semi-Furnished                   1000   Maharashtra   Nashik   \n",
       "4  Apartments       Furnished                   2000   Maharashtra   Nashik   \n",
       "\n",
       "   bedroom  bathroom   Rent  \n",
       "0        2         2  42000  \n",
       "1        1         2  20000  \n",
       "2        1         1   5500  \n",
       "3        2         2  15000  \n",
       "4        3         3  31000  "
      ]
     },
     "execution_count": 68,
     "metadata": {},
     "output_type": "execute_result"
    }
   ],
   "source": [
    "df.head()"
   ]
  },
  {
   "cell_type": "code",
   "execution_count": 69,
   "metadata": {},
   "outputs": [
    {
     "data": {
      "text/html": [
       "<div>\n",
       "<style scoped>\n",
       "    .dataframe tbody tr th:only-of-type {\n",
       "        vertical-align: middle;\n",
       "    }\n",
       "\n",
       "    .dataframe tbody tr th {\n",
       "        vertical-align: top;\n",
       "    }\n",
       "\n",
       "    .dataframe thead th {\n",
       "        text-align: right;\n",
       "    }\n",
       "</style>\n",
       "<table border=\"1\" class=\"dataframe\">\n",
       "  <thead>\n",
       "    <tr style=\"text-align: right;\">\n",
       "      <th>Type</th>\n",
       "      <th>Apartments</th>\n",
       "      <th>Builder Floors</th>\n",
       "      <th>Houses &amp; Villas</th>\n",
       "    </tr>\n",
       "    <tr>\n",
       "      <th>states</th>\n",
       "      <th></th>\n",
       "      <th></th>\n",
       "      <th></th>\n",
       "    </tr>\n",
       "  </thead>\n",
       "  <tbody>\n",
       "    <tr>\n",
       "      <th>Karnataka</th>\n",
       "      <td>342781.632911</td>\n",
       "      <td>60110.690476</td>\n",
       "      <td>69607.142857</td>\n",
       "    </tr>\n",
       "    <tr>\n",
       "      <th>Kerala</th>\n",
       "      <td>16046.514286</td>\n",
       "      <td>6750.000000</td>\n",
       "      <td>220209.016393</td>\n",
       "    </tr>\n",
       "    <tr>\n",
       "      <th>Maharashtra</th>\n",
       "      <td>21666.716216</td>\n",
       "      <td>257375.000000</td>\n",
       "      <td>17263.157895</td>\n",
       "    </tr>\n",
       "    <tr>\n",
       "      <th>Tamil Nadu</th>\n",
       "      <td>111637.333333</td>\n",
       "      <td>51157.894737</td>\n",
       "      <td>104907.978723</td>\n",
       "    </tr>\n",
       "    <tr>\n",
       "      <th>Uttar Pradesh</th>\n",
       "      <td>70502.425532</td>\n",
       "      <td>63203.900000</td>\n",
       "      <td>8283.571429</td>\n",
       "    </tr>\n",
       "  </tbody>\n",
       "</table>\n",
       "</div>"
      ],
      "text/plain": [
       "Type               Apartments  Builder Floors  Houses & Villas\n",
       "states                                                        \n",
       " Karnataka      342781.632911    60110.690476     69607.142857\n",
       " Kerala          16046.514286     6750.000000    220209.016393\n",
       " Maharashtra     21666.716216   257375.000000     17263.157895\n",
       " Tamil Nadu     111637.333333    51157.894737    104907.978723\n",
       " Uttar Pradesh   70502.425532    63203.900000      8283.571429"
      ]
     },
     "execution_count": 69,
     "metadata": {},
     "output_type": "execute_result"
    }
   ],
   "source": [
    "df.pivot_table(values='Rent',index='states',aggfunc='mean',columns='Type')"
   ]
  },
  {
   "cell_type": "code",
   "execution_count": 70,
   "metadata": {},
   "outputs": [],
   "source": [
    "import seaborn as sns\n",
    "import matplotlib.pyplot as plt\n"
   ]
  },
  {
   "cell_type": "code",
   "execution_count": 71,
   "metadata": {},
   "outputs": [
    {
     "data": {
      "text/plain": [
       "<AxesSubplot:xlabel='Type', ylabel='states'>"
      ]
     },
     "execution_count": 71,
     "metadata": {},
     "output_type": "execute_result"
    },
    {
     "data": {
      "image/png": "[encoded data removed]",
      "text/plain": [
       "<Figure size 900x700 with 2 Axes>"
      ]
     },
     "metadata": {},
     "output_type": "display_data"
    }
   ],
   "source": [
    "sns.set_context('poster',0.7)\n",
    "plt.figure(figsize=(9,7))\n",
    "sns.heatmap(df.pivot_table(values='Rent',index='states',aggfunc='mean',columns='Type'),cmap='copper')\n"
   ]
  },
  {
   "cell_type": "code",
   "execution_count": 72,
   "metadata": {},
   "outputs": [
    {
     "data": {
      "text/html": [
       "<div>\n",
       "<style scoped>\n",
       "    .dataframe tbody tr th:only-of-type {\n",
       "        vertical-align: middle;\n",
       "    }\n",
       "\n",
       "    .dataframe tbody tr th {\n",
       "        vertical-align: top;\n",
       "    }\n",
       "\n",
       "    .dataframe thead th {\n",
       "        text-align: right;\n",
       "    }\n",
       "</style>\n",
       "<table border=\"1\" class=\"dataframe\">\n",
       "  <thead>\n",
       "    <tr style=\"text-align: right;\">\n",
       "      <th>Type</th>\n",
       "      <th>Apartments</th>\n",
       "      <th>Builder Floors</th>\n",
       "      <th>Houses &amp; Villas</th>\n",
       "    </tr>\n",
       "    <tr>\n",
       "      <th>furnishing</th>\n",
       "      <th></th>\n",
       "      <th></th>\n",
       "      <th></th>\n",
       "    </tr>\n",
       "  </thead>\n",
       "  <tbody>\n",
       "    <tr>\n",
       "      <th>Furnished</th>\n",
       "      <td>30714.304348</td>\n",
       "      <td>108249.863636</td>\n",
       "      <td>266563.793103</td>\n",
       "    </tr>\n",
       "    <tr>\n",
       "      <th>Semi-Furnished</th>\n",
       "      <td>162197.017241</td>\n",
       "      <td>93533.072727</td>\n",
       "      <td>38061.904762</td>\n",
       "    </tr>\n",
       "    <tr>\n",
       "      <th>Unfurnished</th>\n",
       "      <td>44099.613445</td>\n",
       "      <td>34605.357143</td>\n",
       "      <td>73565.596330</td>\n",
       "    </tr>\n",
       "  </tbody>\n",
       "</table>\n",
       "</div>"
      ],
      "text/plain": [
       "Type               Apartments  Builder Floors  Houses & Villas\n",
       "furnishing                                                    \n",
       "Furnished        30714.304348   108249.863636    266563.793103\n",
       "Semi-Furnished  162197.017241    93533.072727     38061.904762\n",
       "Unfurnished      44099.613445    34605.357143     73565.596330"
      ]
     },
     "execution_count": 72,
     "metadata": {},
     "output_type": "execute_result"
    }
   ],
   "source": [
    "df.pivot_table(values='Rent',index='furnishing',aggfunc='mean',columns='Type')"
   ]
  },
  {
   "cell_type": "code",
   "execution_count": 73,
   "metadata": {},
   "outputs": [
    {
     "data": {
      "text/plain": [
       "<AxesSubplot:xlabel='Type', ylabel='furnishing'>"
      ]
     },
     "execution_count": 73,
     "metadata": {},
     "output_type": "execute_result"
    },
    {
     "data": {
      "image/png": "[encoded data removed]",
      "text/plain": [
       "<Figure size 800x600 with 2 Axes>"
      ]
     },
     "metadata": {},
     "output_type": "display_data"
    }
   ],
   "source": [
    "plt.figure(figsize=(8,6))\n",
    "sns.heatmap(df.pivot_table(values='Rent',index='furnishing',aggfunc='mean',columns='Type'),cmap='viridis')\n"
   ]
  },
  {
   "cell_type": "code",
   "execution_count": 74,
   "metadata": {},
   "outputs": [
    {
     "data": {
      "text/html": [
       "<div>\n",
       "<style scoped>\n",
       "    .dataframe tbody tr th:only-of-type {\n",
       "        vertical-align: middle;\n",
       "    }\n",
       "\n",
       "    .dataframe tbody tr th {\n",
       "        vertical-align: top;\n",
       "    }\n",
       "\n",
       "    .dataframe thead th {\n",
       "        text-align: right;\n",
       "    }\n",
       "</style>\n",
       "<table border=\"1\" class=\"dataframe\">\n",
       "  <thead>\n",
       "    <tr style=\"text-align: right;\">\n",
       "      <th></th>\n",
       "      <th>Type</th>\n",
       "      <th>furnishing</th>\n",
       "      <th>Maintenance (Monthly)</th>\n",
       "      <th>states</th>\n",
       "      <th>city</th>\n",
       "      <th>bedroom</th>\n",
       "      <th>bathroom</th>\n",
       "      <th>Rent</th>\n",
       "    </tr>\n",
       "  </thead>\n",
       "  <tbody>\n",
       "    <tr>\n",
       "      <th>0</th>\n",
       "      <td>Apartments</td>\n",
       "      <td>Semi-Furnished</td>\n",
       "      <td>4000</td>\n",
       "      <td>Maharashtra</td>\n",
       "      <td>Mumbai</td>\n",
       "      <td>2</td>\n",
       "      <td>2</td>\n",
       "      <td>42000</td>\n",
       "    </tr>\n",
       "    <tr>\n",
       "      <th>1</th>\n",
       "      <td>Apartments</td>\n",
       "      <td>Furnished</td>\n",
       "      <td>999</td>\n",
       "      <td>Maharashtra</td>\n",
       "      <td>Mumbai</td>\n",
       "      <td>1</td>\n",
       "      <td>2</td>\n",
       "      <td>20000</td>\n",
       "    </tr>\n",
       "    <tr>\n",
       "      <th>2</th>\n",
       "      <td>Apartments</td>\n",
       "      <td>Furnished</td>\n",
       "      <td>5500</td>\n",
       "      <td>Maharashtra</td>\n",
       "      <td>Pune</td>\n",
       "      <td>1</td>\n",
       "      <td>1</td>\n",
       "      <td>5500</td>\n",
       "    </tr>\n",
       "    <tr>\n",
       "      <th>3</th>\n",
       "      <td>Apartments</td>\n",
       "      <td>Semi-Furnished</td>\n",
       "      <td>1000</td>\n",
       "      <td>Maharashtra</td>\n",
       "      <td>Nashik</td>\n",
       "      <td>2</td>\n",
       "      <td>2</td>\n",
       "      <td>15000</td>\n",
       "    </tr>\n",
       "    <tr>\n",
       "      <th>4</th>\n",
       "      <td>Apartments</td>\n",
       "      <td>Furnished</td>\n",
       "      <td>2000</td>\n",
       "      <td>Maharashtra</td>\n",
       "      <td>Nashik</td>\n",
       "      <td>3</td>\n",
       "      <td>3</td>\n",
       "      <td>31000</td>\n",
       "    </tr>\n",
       "  </tbody>\n",
       "</table>\n",
       "</div>"
      ],
      "text/plain": [
       "         Type      furnishing  Maintenance (Monthly)        states     city  \\\n",
       "0  Apartments  Semi-Furnished                   4000   Maharashtra   Mumbai   \n",
       "1  Apartments       Furnished                    999   Maharashtra   Mumbai   \n",
       "2  Apartments       Furnished                   5500   Maharashtra     Pune   \n",
       "3  Apartments  Semi-Furnished                   1000   Maharashtra   Nashik   \n",
       "4  Apartments       Furnished                   2000   Maharashtra   Nashik   \n",
       "\n",
       "   bedroom  bathroom   Rent  \n",
       "0        2         2  42000  \n",
       "1        1         2  20000  \n",
       "2        1         1   5500  \n",
       "3        2         2  15000  \n",
       "4        3         3  31000  "
      ]
     },
     "execution_count": 74,
     "metadata": {},
     "output_type": "execute_result"
    }
   ],
   "source": [
    "df.head()"
   ]
  },
  {
   "cell_type": "code",
   "execution_count": 75,
   "metadata": {},
   "outputs": [
    {
     "data": {
      "text/html": [
       "<div>\n",
       "<style scoped>\n",
       "    .dataframe tbody tr th:only-of-type {\n",
       "        vertical-align: middle;\n",
       "    }\n",
       "\n",
       "    .dataframe tbody tr th {\n",
       "        vertical-align: top;\n",
       "    }\n",
       "\n",
       "    .dataframe thead th {\n",
       "        text-align: right;\n",
       "    }\n",
       "</style>\n",
       "<table border=\"1\" class=\"dataframe\">\n",
       "  <thead>\n",
       "    <tr style=\"text-align: right;\">\n",
       "      <th></th>\n",
       "      <th>Rent</th>\n",
       "    </tr>\n",
       "    <tr>\n",
       "      <th>bedroom</th>\n",
       "      <th></th>\n",
       "    </tr>\n",
       "  </thead>\n",
       "  <tbody>\n",
       "    <tr>\n",
       "      <th>4</th>\n",
       "      <td>737535.714286</td>\n",
       "    </tr>\n",
       "    <tr>\n",
       "      <th>3</th>\n",
       "      <td>151626.054054</td>\n",
       "    </tr>\n",
       "    <tr>\n",
       "      <th>2</th>\n",
       "      <td>92615.813084</td>\n",
       "    </tr>\n",
       "    <tr>\n",
       "      <th>5</th>\n",
       "      <td>40000.000000</td>\n",
       "    </tr>\n",
       "    <tr>\n",
       "      <th>1</th>\n",
       "      <td>39206.989510</td>\n",
       "    </tr>\n",
       "  </tbody>\n",
       "</table>\n",
       "</div>"
      ],
      "text/plain": [
       "                  Rent\n",
       "bedroom               \n",
       "4        737535.714286\n",
       "3        151626.054054\n",
       "2         92615.813084\n",
       "5         40000.000000\n",
       "1         39206.989510"
      ]
     },
     "execution_count": 75,
     "metadata": {},
     "output_type": "execute_result"
    }
   ],
   "source": [
    "df.pivot_table(index='bedroom',values='Rent').sort_values('Rent',ascending=False)"
   ]
  },
  {
   "cell_type": "code",
   "execution_count": 76,
   "metadata": {},
   "outputs": [
    {
     "data": {
      "text/html": [
       "<div>\n",
       "<style scoped>\n",
       "    .dataframe tbody tr th:only-of-type {\n",
       "        vertical-align: middle;\n",
       "    }\n",
       "\n",
       "    .dataframe tbody tr th {\n",
       "        vertical-align: top;\n",
       "    }\n",
       "\n",
       "    .dataframe thead th {\n",
       "        text-align: right;\n",
       "    }\n",
       "</style>\n",
       "<table border=\"1\" class=\"dataframe\">\n",
       "  <thead>\n",
       "    <tr style=\"text-align: right;\">\n",
       "      <th>Type</th>\n",
       "      <th>Apartments</th>\n",
       "      <th>Builder Floors</th>\n",
       "      <th>Houses &amp; Villas</th>\n",
       "    </tr>\n",
       "    <tr>\n",
       "      <th>bedroom</th>\n",
       "      <th></th>\n",
       "      <th></th>\n",
       "      <th></th>\n",
       "    </tr>\n",
       "  </thead>\n",
       "  <tbody>\n",
       "    <tr>\n",
       "      <th>1</th>\n",
       "      <td>27774.724638</td>\n",
       "      <td>59713.160714</td>\n",
       "      <td>43873.369565</td>\n",
       "    </tr>\n",
       "    <tr>\n",
       "      <th>2</th>\n",
       "      <td>113050.393805</td>\n",
       "      <td>50162.605263</td>\n",
       "      <td>74292.682927</td>\n",
       "    </tr>\n",
       "    <tr>\n",
       "      <th>3</th>\n",
       "      <td>171438.444444</td>\n",
       "      <td>348294.444444</td>\n",
       "      <td>58340.000000</td>\n",
       "    </tr>\n",
       "    <tr>\n",
       "      <th>4</th>\n",
       "      <td>26500.000000</td>\n",
       "      <td>NaN</td>\n",
       "      <td>856041.666667</td>\n",
       "    </tr>\n",
       "    <tr>\n",
       "      <th>5</th>\n",
       "      <td>2000.000000</td>\n",
       "      <td>55000.000000</td>\n",
       "      <td>41333.333333</td>\n",
       "    </tr>\n",
       "  </tbody>\n",
       "</table>\n",
       "</div>"
      ],
      "text/plain": [
       "Type        Apartments  Builder Floors  Houses & Villas\n",
       "bedroom                                                \n",
       "1         27774.724638    59713.160714     43873.369565\n",
       "2        113050.393805    50162.605263     74292.682927\n",
       "3        171438.444444   348294.444444     58340.000000\n",
       "4         26500.000000             NaN    856041.666667\n",
       "5          2000.000000    55000.000000     41333.333333"
      ]
     },
     "execution_count": 76,
     "metadata": {},
     "output_type": "execute_result"
    }
   ],
   "source": [
    "df.pivot_table(index='bedroom',values='Rent',columns='Type')"
   ]
  },
  {
   "cell_type": "code",
   "execution_count": 77,
   "metadata": {},
   "outputs": [
    {
     "data": {
      "text/plain": [
       "<AxesSubplot:xlabel='bedroom', ylabel='Type'>"
      ]
     },
     "execution_count": 77,
     "metadata": {},
     "output_type": "execute_result"
    },
    {
     "data": {
      "image/png": "[encoded data removed]",
      "text/plain": [
       "<Figure size 640x480 with 2 Axes>"
      ]
     },
     "metadata": {},
     "output_type": "display_data"
    }
   ],
   "source": [
    "sns.heatmap(df.pivot_table(index='bedroom',values='Rent',columns='Type').T,cmap='copper')"
   ]
  },
  {
   "cell_type": "code",
   "execution_count": null,
   "metadata": {},
   "outputs": [],
   "source": []
  },
  {
   "cell_type": "code",
   "execution_count": null,
   "metadata": {},
   "outputs": [],
   "source": []
  },
  {
   "cell_type": "code",
   "execution_count": null,
   "metadata": {},
   "outputs": [],
   "source": []
  },
  {
   "cell_type": "code",
   "execution_count": null,
   "metadata": {},
   "outputs": [],
   "source": []
  },
  {
   "cell_type": "code",
   "execution_count": null,
   "metadata": {},
   "outputs": [],
   "source": []
  },
  {
   "cell_type": "code",
   "execution_count": 78,
   "metadata": {},
   "outputs": [],
   "source": [
    "# Now lets check for numerical variables the contains missing values\n",
    "numerical_with_nan=[feature for feature in df.columns if df[feature].isnull().sum()>1 and df[feature].dtypes!='O']\n",
    "\n",
    "## We will print the numerical nan variables and percentage of missing values\n",
    "\n",
    "for feature in numerical_with_nan:\n",
    "    print(\"{}: {}% missing value\".format(feature,np.around(df[feature].isnull().mean(),4)))"
   ]
  },
  {
   "cell_type": "code",
   "execution_count": 79,
   "metadata": {},
   "outputs": [
    {
     "data": {
      "text/html": [
       "<div>\n",
       "<style scoped>\n",
       "    .dataframe tbody tr th:only-of-type {\n",
       "        vertical-align: middle;\n",
       "    }\n",
       "\n",
       "    .dataframe tbody tr th {\n",
       "        vertical-align: top;\n",
       "    }\n",
       "\n",
       "    .dataframe thead th {\n",
       "        text-align: right;\n",
       "    }\n",
       "</style>\n",
       "<table border=\"1\" class=\"dataframe\">\n",
       "  <thead>\n",
       "    <tr style=\"text-align: right;\">\n",
       "      <th></th>\n",
       "      <th>Type</th>\n",
       "      <th>furnishing</th>\n",
       "      <th>Maintenance (Monthly)</th>\n",
       "      <th>states</th>\n",
       "      <th>city</th>\n",
       "      <th>bedroom</th>\n",
       "      <th>bathroom</th>\n",
       "      <th>Rent</th>\n",
       "    </tr>\n",
       "  </thead>\n",
       "  <tbody>\n",
       "    <tr>\n",
       "      <th>226</th>\n",
       "      <td>Houses &amp; Villas</td>\n",
       "      <td>Furnished</td>\n",
       "      <td>2</td>\n",
       "      <td>Kerala</td>\n",
       "      <td>Changanacheri</td>\n",
       "      <td>4</td>\n",
       "      <td>4</td>\n",
       "      <td>10000000</td>\n",
       "    </tr>\n",
       "    <tr>\n",
       "      <th>640</th>\n",
       "      <td>Apartments</td>\n",
       "      <td>Semi-Furnished</td>\n",
       "      <td>2500</td>\n",
       "      <td>Karnataka</td>\n",
       "      <td>Bengaluru</td>\n",
       "      <td>2</td>\n",
       "      <td>2</td>\n",
       "      <td>16450000</td>\n",
       "    </tr>\n",
       "  </tbody>\n",
       "</table>\n",
       "</div>"
      ],
      "text/plain": [
       "                Type      furnishing  Maintenance (Monthly)      states  \\\n",
       "226  Houses & Villas       Furnished                      2      Kerala   \n",
       "640       Apartments  Semi-Furnished                   2500   Karnataka   \n",
       "\n",
       "               city  bedroom  bathroom      Rent  \n",
       "226   Changanacheri        4         4  10000000  \n",
       "640       Bengaluru        2         2  16450000  "
      ]
     },
     "execution_count": 79,
     "metadata": {},
     "output_type": "execute_result"
    }
   ],
   "source": [
    "df[df['Rent']>9900000]"
   ]
  },
  {
   "cell_type": "code",
   "execution_count": 80,
   "metadata": {},
   "outputs": [],
   "source": [
    "df.loc[226,'Rent']=1000000\n",
    "df.loc[640,'Rent']=1645000"
   ]
  },
  {
   "cell_type": "code",
   "execution_count": 81,
   "metadata": {
    "scrolled": true
   },
   "outputs": [
    {
     "ename": "KeyError",
     "evalue": "'Carpet Area (ft²)'",
     "output_type": "error",
     "traceback": [
      "\u001b[1;31m---------------------------------------------------------------------------\u001b[0m",
      "\u001b[1;31mKeyError\u001b[0m                                  Traceback (most recent call last)",
      "\u001b[1;32mc:\\users\\pulkit\\appdata\\local\\programs\\python\\python38\\lib\\site-packages\\pandas\\core\\indexes\\base.py\u001b[0m in \u001b[0;36mget_loc\u001b[1;34m(self, key, method, tolerance)\u001b[0m\n\u001b[0;32m   3360\u001b[0m             \u001b[1;32mtry\u001b[0m\u001b[1;33m:\u001b[0m\u001b[1;33m\u001b[0m\u001b[1;33m\u001b[0m\u001b[0m\n\u001b[1;32m-> 3361\u001b[1;33m                 \u001b[1;32mreturn\u001b[0m \u001b[0mself\u001b[0m\u001b[1;33m.\u001b[0m\u001b[0m_engine\u001b[0m\u001b[1;33m.\u001b[0m\u001b[0mget_loc\u001b[0m\u001b[1;33m(\u001b[0m\u001b[0mcasted_key\u001b[0m\u001b[1;33m)\u001b[0m\u001b[1;33m\u001b[0m\u001b[1;33m\u001b[0m\u001b[0m\n\u001b[0m\u001b[0;32m   3362\u001b[0m             \u001b[1;32mexcept\u001b[0m \u001b[0mKeyError\u001b[0m \u001b[1;32mas\u001b[0m \u001b[0merr\u001b[0m\u001b[1;33m:\u001b[0m\u001b[1;33m\u001b[0m\u001b[1;33m\u001b[0m\u001b[0m\n",
      "\u001b[1;32mc:\\users\\pulkit\\appdata\\local\\programs\\python\\python38\\lib\\site-packages\\pandas\\_libs\\index.pyx\u001b[0m in \u001b[0;36mpandas._libs.index.IndexEngine.get_loc\u001b[1;34m()\u001b[0m\n",
      "\u001b[1;32mc:\\users\\pulkit\\appdata\\local\\programs\\python\\python38\\lib\\site-packages\\pandas\\_libs\\index.pyx\u001b[0m in \u001b[0;36mpandas._libs.index.IndexEngine.get_loc\u001b[1;34m()\u001b[0m\n",
      "\u001b[1;32mpandas\\_libs\\hashtable_class_helper.pxi\u001b[0m in \u001b[0;36mpandas._libs.hashtable.PyObjectHashTable.get_item\u001b[1;34m()\u001b[0m\n",
      "\u001b[1;32mpandas\\_libs\\hashtable_class_helper.pxi\u001b[0m in \u001b[0;36mpandas._libs.hashtable.PyObjectHashTable.get_item\u001b[1;34m()\u001b[0m\n",
      "\u001b[1;31mKeyError\u001b[0m: 'Carpet Area (ft²)'",
      "\nThe above exception was the direct cause of the following exception:\n",
      "\u001b[1;31mKeyError\u001b[0m                                  Traceback (most recent call last)",
      "\u001b[1;32m<ipython-input-81-28b74371c980>\u001b[0m in \u001b[0;36m<module>\u001b[1;34m\u001b[0m\n\u001b[0;32m      2\u001b[0m \u001b[0mfig1\u001b[0m\u001b[1;33m,\u001b[0m \u001b[0max1\u001b[0m \u001b[1;33m=\u001b[0m \u001b[0mplt\u001b[0m\u001b[1;33m.\u001b[0m\u001b[0msubplots\u001b[0m\u001b[1;33m(\u001b[0m\u001b[1;33m)\u001b[0m\u001b[1;33m\u001b[0m\u001b[1;33m\u001b[0m\u001b[0m\n\u001b[0;32m      3\u001b[0m \u001b[0max1\u001b[0m\u001b[1;33m.\u001b[0m\u001b[0mset_title\u001b[0m\u001b[1;33m(\u001b[0m\u001b[1;34m'CArpet area'\u001b[0m\u001b[1;33m)\u001b[0m\u001b[1;33m\u001b[0m\u001b[1;33m\u001b[0m\u001b[0m\n\u001b[1;32m----> 4\u001b[1;33m \u001b[0max1\u001b[0m\u001b[1;33m.\u001b[0m\u001b[0mboxplot\u001b[0m\u001b[1;33m(\u001b[0m\u001b[0mdf\u001b[0m\u001b[1;33m[\u001b[0m\u001b[1;34m'Carpet Area (ft²)'\u001b[0m\u001b[1;33m]\u001b[0m\u001b[1;33m.\u001b[0m\u001b[0mdropna\u001b[0m\u001b[1;33m(\u001b[0m\u001b[1;33m)\u001b[0m\u001b[1;33m,\u001b[0m\u001b[0mvert\u001b[0m\u001b[1;33m=\u001b[0m\u001b[1;32mFalse\u001b[0m\u001b[1;33m)\u001b[0m\u001b[1;33m\u001b[0m\u001b[1;33m\u001b[0m\u001b[0m\n\u001b[0m\u001b[0;32m      5\u001b[0m \u001b[0mplt\u001b[0m\u001b[1;33m.\u001b[0m\u001b[0mshow\u001b[0m\u001b[1;33m(\u001b[0m\u001b[1;33m)\u001b[0m\u001b[1;33m\u001b[0m\u001b[1;33m\u001b[0m\u001b[0m\n",
      "\u001b[1;32mc:\\users\\pulkit\\appdata\\local\\programs\\python\\python38\\lib\\site-packages\\pandas\\core\\frame.py\u001b[0m in \u001b[0;36m__getitem__\u001b[1;34m(self, key)\u001b[0m\n\u001b[0;32m   3456\u001b[0m             \u001b[1;32mif\u001b[0m \u001b[0mself\u001b[0m\u001b[1;33m.\u001b[0m\u001b[0mcolumns\u001b[0m\u001b[1;33m.\u001b[0m\u001b[0mnlevels\u001b[0m \u001b[1;33m>\u001b[0m \u001b[1;36m1\u001b[0m\u001b[1;33m:\u001b[0m\u001b[1;33m\u001b[0m\u001b[1;33m\u001b[0m\u001b[0m\n\u001b[0;32m   3457\u001b[0m                 \u001b[1;32mreturn\u001b[0m \u001b[0mself\u001b[0m\u001b[1;33m.\u001b[0m\u001b[0m_getitem_multilevel\u001b[0m\u001b[1;33m(\u001b[0m\u001b[0mkey\u001b[0m\u001b[1;33m)\u001b[0m\u001b[1;33m\u001b[0m\u001b[1;33m\u001b[0m\u001b[0m\n\u001b[1;32m-> 3458\u001b[1;33m             \u001b[0mindexer\u001b[0m \u001b[1;33m=\u001b[0m \u001b[0mself\u001b[0m\u001b[1;33m.\u001b[0m\u001b[0mcolumns\u001b[0m\u001b[1;33m.\u001b[0m\u001b[0mget_loc\u001b[0m\u001b[1;33m(\u001b[0m\u001b[0mkey\u001b[0m\u001b[1;33m)\u001b[0m\u001b[1;33m\u001b[0m\u001b[1;33m\u001b[0m\u001b[0m\n\u001b[0m\u001b[0;32m   3459\u001b[0m             \u001b[1;32mif\u001b[0m \u001b[0mis_integer\u001b[0m\u001b[1;33m(\u001b[0m\u001b[0mindexer\u001b[0m\u001b[1;33m)\u001b[0m\u001b[1;33m:\u001b[0m\u001b[1;33m\u001b[0m\u001b[1;33m\u001b[0m\u001b[0m\n\u001b[0;32m   3460\u001b[0m                 \u001b[0mindexer\u001b[0m \u001b[1;33m=\u001b[0m \u001b[1;33m[\u001b[0m\u001b[0mindexer\u001b[0m\u001b[1;33m]\u001b[0m\u001b[1;33m\u001b[0m\u001b[1;33m\u001b[0m\u001b[0m\n",
      "\u001b[1;32mc:\\users\\pulkit\\appdata\\local\\programs\\python\\python38\\lib\\site-packages\\pandas\\core\\indexes\\base.py\u001b[0m in \u001b[0;36mget_loc\u001b[1;34m(self, key, method, tolerance)\u001b[0m\n\u001b[0;32m   3361\u001b[0m                 \u001b[1;32mreturn\u001b[0m \u001b[0mself\u001b[0m\u001b[1;33m.\u001b[0m\u001b[0m_engine\u001b[0m\u001b[1;33m.\u001b[0m\u001b[0mget_loc\u001b[0m\u001b[1;33m(\u001b[0m\u001b[0mcasted_key\u001b[0m\u001b[1;33m)\u001b[0m\u001b[1;33m\u001b[0m\u001b[1;33m\u001b[0m\u001b[0m\n\u001b[0;32m   3362\u001b[0m             \u001b[1;32mexcept\u001b[0m \u001b[0mKeyError\u001b[0m \u001b[1;32mas\u001b[0m \u001b[0merr\u001b[0m\u001b[1;33m:\u001b[0m\u001b[1;33m\u001b[0m\u001b[1;33m\u001b[0m\u001b[0m\n\u001b[1;32m-> 3363\u001b[1;33m                 \u001b[1;32mraise\u001b[0m \u001b[0mKeyError\u001b[0m\u001b[1;33m(\u001b[0m\u001b[0mkey\u001b[0m\u001b[1;33m)\u001b[0m \u001b[1;32mfrom\u001b[0m \u001b[0merr\u001b[0m\u001b[1;33m\u001b[0m\u001b[1;33m\u001b[0m\u001b[0m\n\u001b[0m\u001b[0;32m   3364\u001b[0m \u001b[1;33m\u001b[0m\u001b[0m\n\u001b[0;32m   3365\u001b[0m         \u001b[1;32mif\u001b[0m \u001b[0mis_scalar\u001b[0m\u001b[1;33m(\u001b[0m\u001b[0mkey\u001b[0m\u001b[1;33m)\u001b[0m \u001b[1;32mand\u001b[0m \u001b[0misna\u001b[0m\u001b[1;33m(\u001b[0m\u001b[0mkey\u001b[0m\u001b[1;33m)\u001b[0m \u001b[1;32mand\u001b[0m \u001b[1;32mnot\u001b[0m \u001b[0mself\u001b[0m\u001b[1;33m.\u001b[0m\u001b[0mhasnans\u001b[0m\u001b[1;33m:\u001b[0m\u001b[1;33m\u001b[0m\u001b[1;33m\u001b[0m\u001b[0m\n",
      "\u001b[1;31mKeyError\u001b[0m: 'Carpet Area (ft²)'"
     ]
    },
    {
     "data": {
      "image/png": "[encoded data removed]",
      "text/plain": [
       "<Figure size 640x480 with 1 Axes>"
      ]
     },
     "metadata": {},
     "output_type": "display_data"
    }
   ],
   "source": [
    "import matplotlib.pyplot as plt\n",
    "fig1, ax1 = plt.subplots()\n",
    "ax1.set_title('CArpet area')\n",
    "ax1.boxplot(df['Carpet Area (ft²)'].dropna(),vert=False)\n",
    "plt.show()"
   ]
  },
  {
   "cell_type": "markdown",
   "metadata": {},
   "source": [
    "## Missing values imputation using regression"
   ]
  },
  {
   "cell_type": "code",
   "execution_count": 82,
   "metadata": {},
   "outputs": [],
   "source": [
    "d2=df.copy()"
   ]
  },
  {
   "cell_type": "code",
   "execution_count": 83,
   "metadata": {},
   "outputs": [],
   "source": [
    "#categorical data\n",
    "categorical_cols = ['Type'] \n",
    "\n",
    "#import pandas as pd\n",
    "d2 = pd.get_dummies(d2, columns = categorical_cols)"
   ]
  },
  {
   "cell_type": "code",
   "execution_count": 84,
   "metadata": {
    "scrolled": false
   },
   "outputs": [
    {
     "data": {
      "text/html": [
       "<div>\n",
       "<style scoped>\n",
       "    .dataframe tbody tr th:only-of-type {\n",
       "        vertical-align: middle;\n",
       "    }\n",
       "\n",
       "    .dataframe tbody tr th {\n",
       "        vertical-align: top;\n",
       "    }\n",
       "\n",
       "    .dataframe thead th {\n",
       "        text-align: right;\n",
       "    }\n",
       "</style>\n",
       "<table border=\"1\" class=\"dataframe\">\n",
       "  <thead>\n",
       "    <tr style=\"text-align: right;\">\n",
       "      <th></th>\n",
       "      <th>Maintenance (Monthly)</th>\n",
       "      <th>bedroom</th>\n",
       "      <th>bathroom</th>\n",
       "      <th>Rent</th>\n",
       "      <th>Type_Apartments</th>\n",
       "      <th>Type_Builder Floors</th>\n",
       "      <th>Type_Houses &amp; Villas</th>\n",
       "    </tr>\n",
       "  </thead>\n",
       "  <tbody>\n",
       "    <tr>\n",
       "      <th>Maintenance (Monthly)</th>\n",
       "      <td>1.000000</td>\n",
       "      <td>0.046116</td>\n",
       "      <td>0.010953</td>\n",
       "      <td>-0.005930</td>\n",
       "      <td>0.031893</td>\n",
       "      <td>-0.012341</td>\n",
       "      <td>-0.024941</td>\n",
       "    </tr>\n",
       "    <tr>\n",
       "      <th>bedroom</th>\n",
       "      <td>0.046116</td>\n",
       "      <td>1.000000</td>\n",
       "      <td>0.781856</td>\n",
       "      <td>0.095302</td>\n",
       "      <td>0.033202</td>\n",
       "      <td>-0.136454</td>\n",
       "      <td>0.057576</td>\n",
       "    </tr>\n",
       "    <tr>\n",
       "      <th>bathroom</th>\n",
       "      <td>0.010953</td>\n",
       "      <td>0.781856</td>\n",
       "      <td>1.000000</td>\n",
       "      <td>0.059509</td>\n",
       "      <td>0.118000</td>\n",
       "      <td>-0.158958</td>\n",
       "      <td>-0.015707</td>\n",
       "    </tr>\n",
       "    <tr>\n",
       "      <th>Rent</th>\n",
       "      <td>-0.005930</td>\n",
       "      <td>0.095302</td>\n",
       "      <td>0.059509</td>\n",
       "      <td>1.000000</td>\n",
       "      <td>-0.000592</td>\n",
       "      <td>0.015469</td>\n",
       "      <td>-0.009837</td>\n",
       "    </tr>\n",
       "    <tr>\n",
       "      <th>Type_Apartments</th>\n",
       "      <td>0.031893</td>\n",
       "      <td>0.033202</td>\n",
       "      <td>0.118000</td>\n",
       "      <td>-0.000592</td>\n",
       "      <td>1.000000</td>\n",
       "      <td>-0.386931</td>\n",
       "      <td>-0.782047</td>\n",
       "    </tr>\n",
       "    <tr>\n",
       "      <th>Type_Builder Floors</th>\n",
       "      <td>-0.012341</td>\n",
       "      <td>-0.136454</td>\n",
       "      <td>-0.158958</td>\n",
       "      <td>0.015469</td>\n",
       "      <td>-0.386931</td>\n",
       "      <td>1.000000</td>\n",
       "      <td>-0.272078</td>\n",
       "    </tr>\n",
       "    <tr>\n",
       "      <th>Type_Houses &amp; Villas</th>\n",
       "      <td>-0.024941</td>\n",
       "      <td>0.057576</td>\n",
       "      <td>-0.015707</td>\n",
       "      <td>-0.009837</td>\n",
       "      <td>-0.782047</td>\n",
       "      <td>-0.272078</td>\n",
       "      <td>1.000000</td>\n",
       "    </tr>\n",
       "  </tbody>\n",
       "</table>\n",
       "</div>"
      ],
      "text/plain": [
       "                       Maintenance (Monthly)   bedroom  bathroom      Rent  \\\n",
       "Maintenance (Monthly)               1.000000  0.046116  0.010953 -0.005930   \n",
       "bedroom                             0.046116  1.000000  0.781856  0.095302   \n",
       "bathroom                            0.010953  0.781856  1.000000  0.059509   \n",
       "Rent                               -0.005930  0.095302  0.059509  1.000000   \n",
       "Type_Apartments                     0.031893  0.033202  0.118000 -0.000592   \n",
       "Type_Builder Floors                -0.012341 -0.136454 -0.158958  0.015469   \n",
       "Type_Houses & Villas               -0.024941  0.057576 -0.015707 -0.009837   \n",
       "\n",
       "                       Type_Apartments  Type_Builder Floors  \\\n",
       "Maintenance (Monthly)         0.031893            -0.012341   \n",
       "bedroom                       0.033202            -0.136454   \n",
       "bathroom                      0.118000            -0.158958   \n",
       "Rent                         -0.000592             0.015469   \n",
       "Type_Apartments               1.000000            -0.386931   \n",
       "Type_Builder Floors          -0.386931             1.000000   \n",
       "Type_Houses & Villas         -0.782047            -0.272078   \n",
       "\n",
       "                       Type_Houses & Villas  \n",
       "Maintenance (Monthly)             -0.024941  \n",
       "bedroom                            0.057576  \n",
       "bathroom                          -0.015707  \n",
       "Rent                              -0.009837  \n",
       "Type_Apartments                   -0.782047  \n",
       "Type_Builder Floors               -0.272078  \n",
       "Type_Houses & Villas               1.000000  "
      ]
     },
     "execution_count": 84,
     "metadata": {},
     "output_type": "execute_result"
    }
   ],
   "source": [
    "d2.corr()"
   ]
  },
  {
   "cell_type": "code",
   "execution_count": 85,
   "metadata": {
    "scrolled": false
   },
   "outputs": [
    {
     "data": {
      "text/plain": [
       "Index(['furnishing', 'Maintenance (Monthly)', 'states', 'city', 'bedroom',\n",
       "       'bathroom', 'Rent', 'Type_Apartments', 'Type_Builder Floors',\n",
       "       'Type_Houses & Villas'],\n",
       "      dtype='object')"
      ]
     },
     "execution_count": 85,
     "metadata": {},
     "output_type": "execute_result"
    }
   ],
   "source": [
    "d2.columns"
   ]
  },
  {
   "cell_type": "code",
   "execution_count": 86,
   "metadata": {},
   "outputs": [
    {
     "name": "stdout",
     "output_type": "stream",
     "text": [
      "<class 'pandas.core.frame.DataFrame'>\n",
      "Int64Index: 885 entries, 0 to 886\n",
      "Data columns (total 10 columns):\n",
      " #   Column                 Non-Null Count  Dtype \n",
      "---  ------                 --------------  ----- \n",
      " 0   furnishing             885 non-null    object\n",
      " 1   Maintenance (Monthly)  885 non-null    int64 \n",
      " 2   states                 885 non-null    object\n",
      " 3   city                   885 non-null    object\n",
      " 4   bedroom                885 non-null    int64 \n",
      " 5   bathroom               885 non-null    int64 \n",
      " 6   Rent                   885 non-null    int64 \n",
      " 7   Type_Apartments        885 non-null    uint8 \n",
      " 8   Type_Builder Floors    885 non-null    uint8 \n",
      " 9   Type_Houses & Villas   885 non-null    uint8 \n",
      "dtypes: int64(4), object(3), uint8(3)\n",
      "memory usage: 90.2+ KB\n"
     ]
    }
   ],
   "source": [
    "d2.info()"
   ]
  },
  {
   "cell_type": "code",
   "execution_count": 87,
   "metadata": {},
   "outputs": [],
   "source": [
    "d2=d2.dropna()"
   ]
  },
  {
   "cell_type": "code",
   "execution_count": 93,
   "metadata": {},
   "outputs": [],
   "source": [
    "X=d2.drop(['furnishing','Rent','states','city'],axis=1)\n",
    "y=d2['Rent']"
   ]
  },
  {
   "cell_type": "code",
   "execution_count": 94,
   "metadata": {},
   "outputs": [],
   "source": [
    "# import train_test_split module\n",
    "from sklearn.model_selection import train_test_split\n",
    "\n",
    "# Split X and y into training and test data sets with test_size=0.3 and random_state=42\n",
    "X_train, X_test, y_train, y_test = train_test_split(X, y, test_size=0.3, random_state=42)"
   ]
  },
  {
   "cell_type": "code",
   "execution_count": 95,
   "metadata": {},
   "outputs": [
    {
     "data": {
      "text/plain": [
       "array([ 81650.77855969, 102158.01896055,  81650.74405918,  29450.40064307,\n",
       "        81650.77303961,  75141.59650691, 105610.47596346, 102157.99826025,\n",
       "        14828.05889394,  29450.40064307,  45296.93142279,  81650.77855969,\n",
       "        75141.60340701,  38787.75629771, 118004.59116848,  29450.39374297,\n",
       "        75141.60340701,  38787.75629771, 102158.09483408,  38787.75629771,\n",
       "        38787.75077763,  65804.24775237,  38787.75629771,  38787.70109689,\n",
       "        45296.93139519,  81650.77855969,  29450.35234236,  38787.74939761,\n",
       "       132626.96740432,  81650.77855969,  45296.91937521,  38787.75215765,\n",
       "        35335.37519593,  45296.93140899,  81650.77441963,  45296.93145039,\n",
       "        96273.12030882, 118004.59116848,  65804.24637235, 118004.59806858,\n",
       "        81650.77851829,  29450.39788303,  29450.39857304, 112119.63731593,\n",
       "       118004.62559999,  29450.39374297, 148473.45682483,  65804.23947225,\n",
       "       118004.58426838, 163095.83997457,  81650.77855969, 132626.8846169 ,\n",
       "        81650.75992941,  29450.40062927,  65804.07524982,  81650.73715908,\n",
       "        81650.75095928,  81650.76475949,  29450.39374297,  65804.24775237,\n",
       "        75141.60340701,  29450.39788303,  81650.74405918,  96273.02370739,\n",
       "        81650.75095928,  65804.24499233, 102158.09486168, 112119.64421604,\n",
       "       102158.09486168,  45296.93145039,  81650.75785938,  81650.72335887,\n",
       "        81650.76475949,  96273.12030882,  81650.77846309,  96273.12028122,\n",
       "       132626.96741812,  38787.74939761,  45296.92800034,  45296.93139519,\n",
       "        38787.75215765, 112119.65108854, 168980.81452743,  29450.26264103,\n",
       "        81650.75785938,  65804.24772477,  81650.77165959, 163095.83997457,\n",
       "        81650.77855969,  96273.11478874,  81650.77027957,  75141.602717  ,\n",
       "        96273.12030882, 118004.58785643, 138511.94188818,  81650.72749893,\n",
       "        65804.24775237,  96273.1189288 ,  75141.60340701, 245140.88984781,\n",
       "        75141.5758066 , 148473.46372493, 148473.46372493,  45296.93145039,\n",
       "        96273.12030882,  81650.77717967, 112119.65084013,  65804.24499233,\n",
       "        29450.40060167,  96273.12030882,  81650.74233415,  81650.77855969,\n",
       "        81650.75785938,  29450.40064307,  81650.77855969,  81650.77855969,\n",
       "        81650.76475949,  75141.59650691,  65804.24085227,  65804.24775237,\n",
       "       118004.58426838,  29450.40064307,  29450.39788303,  81650.77855969,\n",
       "        -1018.47192718,  29450.39374297,  45296.92455029,  81650.76475949,\n",
       "        81650.77855969, 118004.61186879, 163095.83997457,  65804.24773857,\n",
       "        81650.77717967,  29450.39374297,  81650.77855969, 102158.08106147,\n",
       "        45296.93145039,  81650.77855969, 118004.59806858,  38787.75629771,\n",
       "        45296.91627016, 118004.58426838, 118004.62566899,  14828.05889394,\n",
       "        75141.59650691, 148473.49822544,  81650.77855969, 174865.76147987,\n",
       "        81650.74405918, 132626.96740432, 102158.09348166, 102158.09483408,\n",
       "        81650.74405918, 148473.48442523,   8318.87242509,  81650.77165959,\n",
       "        75141.60340701,  81650.75095928,  45296.93142279,  81650.77855969,\n",
       "        81650.77579965,  45296.91075008, 112119.64973612,  81650.75785938,\n",
       "        29450.40064307,  75141.60340701, 118004.62566899, 118004.62566899,\n",
       "       102158.06726127,  65804.24085227,  14828.05888014, 118004.61186879,\n",
       "        45296.93145039,  38787.75353767,  81650.74267916,  45296.93145039,\n",
       "        45296.93139519, 148473.43329548,  81650.74233415, 105610.47596346,\n",
       "        38787.75491769,  45296.93145039,  65804.24361231,  81650.77855969,\n",
       "        65804.24772477, 118004.59806858, 111495.45051631, 138511.93507087,\n",
       "        65804.24775237,  75141.47920517,  38787.75627011,  81650.75095928,\n",
       "        81650.77165959, 199449.67742373,  29450.40064307,  96273.12030882,\n",
       "        81650.73715908,  81650.73025897,  29450.40029807, 112119.65111614,\n",
       "       112119.65111614,  45296.93145039, 132626.96741812, 111495.44430622,\n",
       "        -1018.47191338,  45296.91302712,  81650.77717967, 118004.62566899,\n",
       "        81650.73715908,  65804.24772477,  29450.40064307,  45296.93007037,\n",
       "       148473.45958487,  75141.60340701,  45296.85554926,  29450.39953906,\n",
       "        65804.24499233, 132626.9660381 , 132626.93981772, 102158.09486168,\n",
       "        65804.24772477,  96273.11823879, 148473.47752513, 148473.43060444,\n",
       "        65804.0062488 , 148473.48787529,  29450.40064307,  96272.98230678,\n",
       "        96273.12030882, 148473.44550866,  81650.76751953,  65804.24775237,\n",
       "       118004.59116848, 118004.58426838, 148473.49801844,  45296.93145039,\n",
       "        81650.77165959,  45296.93139519,  81650.75371932,  81650.74819924,\n",
       "        96273.10650862,  81650.75785938,  45296.93145039,  14828.05889394,\n",
       "        65804.24775237,  81650.77855969,  81650.77579965,  96273.12030882,\n",
       "        45296.79344835,  81650.76061942,  45296.93145039,  96273.11616876,\n",
       "        75141.60340701,  87535.75311254, 102158.09486168,  45296.91075008,\n",
       "        96273.12030882,  81650.76475949, 148473.49822544, 174865.77528007,\n",
       "        65804.23395217,  38787.75353767,  45296.93145039,  45296.93145039,\n",
       "        45296.92455029,  14828.03819363])"
      ]
     },
     "execution_count": 95,
     "metadata": {},
     "output_type": "execute_result"
    }
   ],
   "source": [
    "from sklearn import linear_model\n",
    "\n",
    "\n",
    "# Instantiate the linear regression object lm\n",
    "\n",
    "lm= linear_model.LinearRegression()\n",
    "\n",
    "# Fit and train the model using training data sets\n",
    "lm.fit(X_train,y_train)\n",
    "\n",
    "\n",
    "# Predict on the test data\n",
    "\n",
    "y_pred=lm.predict(X_test)\n",
    "y_pred\n"
   ]
  },
  {
   "cell_type": "code",
   "execution_count": 96,
   "metadata": {},
   "outputs": [
    {
     "name": "stdout",
     "output_type": "stream",
     "text": [
      "Estimated model slope, a: [-1.38002043e-05  6.68227197e+04 -3.04688726e+04  7.45190199e+03\n",
      "  9.42726834e+02 -8.39462882e+03]\n",
      "Estimated model intercept, b: 1491.1823544224026\n"
     ]
    }
   ],
   "source": [
    "# Compute model slope and intercept\n",
    "print(\"Estimated model slope, a:\",lm.coef_)\n",
    "print(\"Estimated model intercept, b:\",lm.intercept_)"
   ]
  },
  {
   "cell_type": "code",
   "execution_count": 97,
   "metadata": {},
   "outputs": [
    {
     "name": "stdout",
     "output_type": "stream",
     "text": [
      "RMSE value: 240867.5435\n"
     ]
    }
   ],
   "source": [
    "from sklearn.metrics import mean_squared_error\n",
    "\n",
    "# Calculate and print Root Mean Square Error(RMSE)\n",
    "mse= mean_squared_error(y_pred,y_test)\n",
    "rmse= np.sqrt(mse)\n",
    "print(\"RMSE value: {:.4f}\".format(rmse))"
   ]
  },
  {
   "cell_type": "code",
   "execution_count": 98,
   "metadata": {},
   "outputs": [
    {
     "name": "stdout",
     "output_type": "stream",
     "text": [
      "R2 Score value: -0.0206\n"
     ]
    }
   ],
   "source": [
    "from sklearn.metrics import r2_score\n",
    "\n",
    "# Calculate and print r2_score\n",
    "print(\"R2 Score value: {:.4f}\".format(r2_score(y_test,y_pred)))\n"
   ]
  },
  {
   "cell_type": "code",
   "execution_count": 99,
   "metadata": {},
   "outputs": [
    {
     "name": "stdout",
     "output_type": "stream",
     "text": [
      "Training set score: 0.0134\n",
      "Test set score: -0.0206\n"
     ]
    }
   ],
   "source": [
    "print(\"Training set score: {:.4f}\".format(lm.score(X_train,y_train)))\n",
    "print(\"Test set score: {:.4f}\".format(lm.score(X_test,y_test)))"
   ]
  },
  {
   "cell_type": "code",
   "execution_count": 100,
   "metadata": {},
   "outputs": [],
   "source": [
    "# Importing decision tree classifier from sklearn library\n",
    "from sklearn.tree import DecisionTreeClassifier\n",
    "\n",
    "clf = DecisionTreeClassifier(max_depth = 5)\n"
   ]
  },
  {
   "cell_type": "code",
   "execution_count": 101,
   "metadata": {},
   "outputs": [],
   "source": [
    "from sklearn.metrics import classification_report, confusion_matrix"
   ]
  },
  {
   "cell_type": "code",
   "execution_count": 102,
   "metadata": {},
   "outputs": [
    {
     "data": {
      "text/plain": [
       "DecisionTreeClassifier(max_depth=5)"
      ]
     },
     "execution_count": 102,
     "metadata": {},
     "output_type": "execute_result"
    }
   ],
   "source": [
    "clf.fit(X_train,y_train)"
   ]
  },
  {
   "cell_type": "code",
   "execution_count": 103,
   "metadata": {},
   "outputs": [],
   "source": [
    "\n",
    "\n",
    "\n",
    "# Making predictions\n",
    "y_pred_default = lm.predict(X_test)\n",
    "\n"
   ]
  },
  {
   "cell_type": "code",
   "execution_count": 104,
   "metadata": {
    "scrolled": true
   },
   "outputs": [
    {
     "name": "stdout",
     "output_type": "stream",
     "text": [
      "              precision    recall  f1-score   support\n",
      "\n",
      "        1000       0.00      0.00      0.00         1\n",
      "        1500       0.00      0.00      0.00         1\n",
      "        1700       0.00      0.00      0.00         1\n",
      "        2500       0.00      0.00      0.00         3\n",
      "        2800       0.00      0.00      0.00         1\n",
      "        3000       0.00      0.00      0.00         0\n",
      "        3500       0.00      0.00      0.00         2\n",
      "        3700       0.00      0.00      0.00         1\n",
      "        4000       0.00      0.00      0.00         3\n",
      "        4500       0.00      0.00      0.00         3\n",
      "        4999       0.00      0.00      0.00         1\n",
      "        5000       0.00      0.00      0.00         5\n",
      "        5250       0.00      0.00      0.00         1\n",
      "        5500       0.00      0.00      0.00         6\n",
      "        5890       0.00      0.00      0.00         1\n",
      "        5999       0.00      0.00      0.00         1\n",
      "        6000       0.00      0.00      0.00         8\n",
      "        6350       0.00      0.00      0.00         1\n",
      "        6450       0.00      0.00      0.00         1\n",
      "        6500       0.00      0.00      0.00         6\n",
      "        6800       0.00      0.00      0.00         1\n",
      "        7000       1.00      0.08      0.14        13\n",
      "        7200       0.00      0.00      0.00         2\n",
      "        7400       0.00      0.00      0.00         1\n",
      "        7500       0.00      0.00      0.00         5\n",
      "        7680       0.00      0.00      0.00         1\n",
      "        8000       0.24      0.36      0.29        11\n",
      "        8200       0.00      0.00      0.00         1\n",
      "        8480       0.00      0.00      0.00         1\n",
      "        8500       0.00      0.00      0.00         3\n",
      "        9000       0.33      0.09      0.14        11\n",
      "        9500       0.00      0.00      0.00         5\n",
      "       10000       0.07      0.56      0.13        18\n",
      "       10210       0.00      0.00      0.00         1\n",
      "       10500       0.00      0.00      0.00         2\n",
      "       11000       0.00      0.00      0.00         2\n",
      "       11500       0.00      0.00      0.00         3\n",
      "       12000       0.00      0.00      0.00        17\n",
      "       12500       0.00      0.00      0.00         3\n",
      "       12999       0.00      0.00      0.00         1\n",
      "       13000       0.00      0.00      0.00        12\n",
      "       13250       0.00      0.00      0.00         1\n",
      "       13500       0.00      0.00      0.00         2\n",
      "       14000       0.00      0.00      0.00         6\n",
      "       15000       0.04      0.18      0.06        11\n",
      "       15500       0.00      0.00      0.00         2\n",
      "       15550       0.00      0.00      0.00         1\n",
      "       16000       0.00      0.00      0.00         7\n",
      "       16500       0.00      0.00      0.00         4\n",
      "       17000       0.00      0.00      0.00         2\n",
      "       17500       0.00      0.00      0.00         2\n",
      "       18000       0.00      0.00      0.00         7\n",
      "       19000       0.00      0.00      0.00         2\n",
      "       20000       0.00      0.00      0.00        15\n",
      "       21000       0.00      0.00      0.00         2\n",
      "       21500       0.00      0.00      0.00         1\n",
      "       22000       0.00      0.00      0.00         4\n",
      "       24000       0.00      0.00      0.00         1\n",
      "       25000       0.00      0.00      0.00         3\n",
      "       26000       0.00      0.00      0.00         1\n",
      "       27000       0.00      0.00      0.00         2\n",
      "       30000       0.00      0.00      0.00         3\n",
      "       31000       0.00      0.00      0.00         1\n",
      "       32500       0.00      0.00      0.00         1\n",
      "       34000       0.00      0.00      0.00         1\n",
      "       40000       0.00      0.00      0.00         3\n",
      "       41000       0.00      0.00      0.00         2\n",
      "       42000       0.00      0.00      0.00         1\n",
      "       50000       0.00      0.00      0.00         1\n",
      "       55000       0.00      0.00      0.00         1\n",
      "       60000       0.00      0.00      0.00         2\n",
      "      200000       0.00      0.00      0.00         1\n",
      "      250000       0.00      0.00      0.00         1\n",
      "      300000       0.00      0.00      0.00         1\n",
      "      350000       0.00      0.00      0.00         1\n",
      "      450000       0.00      0.00      0.00         1\n",
      "      500000       0.00      0.00      0.00         2\n",
      "      750000       0.00      0.00      0.00         1\n",
      "      800000       0.00      0.00      0.00         2\n",
      "      825000       0.00      0.00      0.00         1\n",
      "     1800000       0.00      0.00      0.00         1\n",
      "     3000000       0.00      0.00      0.00         1\n",
      "\n",
      "    accuracy                           0.07       266\n",
      "   macro avg       0.02      0.02      0.01       266\n",
      "weighted avg       0.08      0.07      0.04       266\n",
      "\n"
     ]
    },
    {
     "name": "stderr",
     "output_type": "stream",
     "text": [
      "c:\\users\\pulkit\\appdata\\local\\programs\\python\\python38\\lib\\site-packages\\sklearn\\metrics\\_classification.py:1308: UndefinedMetricWarning: Precision and F-score are ill-defined and being set to 0.0 in labels with no predicted samples. Use `zero_division` parameter to control this behavior.\n",
      "  _warn_prf(average, modifier, msg_start, len(result))\n",
      "c:\\users\\pulkit\\appdata\\local\\programs\\python\\python38\\lib\\site-packages\\sklearn\\metrics\\_classification.py:1308: UndefinedMetricWarning: Recall and F-score are ill-defined and being set to 0.0 in labels with no true samples. Use `zero_division` parameter to control this behavior.\n",
      "  _warn_prf(average, modifier, msg_start, len(result))\n",
      "c:\\users\\pulkit\\appdata\\local\\programs\\python\\python38\\lib\\site-packages\\sklearn\\metrics\\_classification.py:1308: UndefinedMetricWarning: Precision and F-score are ill-defined and being set to 0.0 in labels with no predicted samples. Use `zero_division` parameter to control this behavior.\n",
      "  _warn_prf(average, modifier, msg_start, len(result))\n",
      "c:\\users\\pulkit\\appdata\\local\\programs\\python\\python38\\lib\\site-packages\\sklearn\\metrics\\_classification.py:1308: UndefinedMetricWarning: Recall and F-score are ill-defined and being set to 0.0 in labels with no true samples. Use `zero_division` parameter to control this behavior.\n",
      "  _warn_prf(average, modifier, msg_start, len(result))\n",
      "c:\\users\\pulkit\\appdata\\local\\programs\\python\\python38\\lib\\site-packages\\sklearn\\metrics\\_classification.py:1308: UndefinedMetricWarning: Precision and F-score are ill-defined and being set to 0.0 in labels with no predicted samples. Use `zero_division` parameter to control this behavior.\n",
      "  _warn_prf(average, modifier, msg_start, len(result))\n",
      "c:\\users\\pulkit\\appdata\\local\\programs\\python\\python38\\lib\\site-packages\\sklearn\\metrics\\_classification.py:1308: UndefinedMetricWarning: Recall and F-score are ill-defined and being set to 0.0 in labels with no true samples. Use `zero_division` parameter to control this behavior.\n",
      "  _warn_prf(average, modifier, msg_start, len(result))\n"
     ]
    }
   ],
   "source": [
    "from sklearn.metrics import classification_report, confusion_matrix\n",
    "\n",
    "\n",
    "# Making predictions\n",
    "y_pred_default = clf.predict(X_test)\n",
    "\n",
    "# Printing classification report\n",
    "print(classification_report(y_test, y_pred_default))"
   ]
  },
  {
   "cell_type": "code",
   "execution_count": 105,
   "metadata": {
    "scrolled": true
   },
   "outputs": [
    {
     "name": "stdout",
     "output_type": "stream",
     "text": [
      "[[0 0 0 ... 0 0 0]\n",
      " [0 0 0 ... 0 0 0]\n",
      " [0 0 0 ... 0 0 0]\n",
      " ...\n",
      " [0 0 0 ... 0 0 0]\n",
      " [0 0 0 ... 0 0 0]\n",
      " [0 0 0 ... 0 0 0]]\n"
     ]
    }
   ],
   "source": [
    "print(confusion_matrix(y_test, y_pred_default))"
   ]
  },
  {
   "cell_type": "code",
   "execution_count": 106,
   "metadata": {
    "scrolled": true
   },
   "outputs": [
    {
     "name": "stdout",
     "output_type": "stream",
     "text": [
      "[[0 0 0 ... 0 0 0]\n",
      " [0 0 0 ... 0 0 0]\n",
      " [0 0 0 ... 0 0 0]\n",
      " ...\n",
      " [0 0 0 ... 0 0 0]\n",
      " [0 0 0 ... 0 0 0]\n",
      " [0 0 0 ... 0 0 0]]\n",
      "0.06766917293233082\n"
     ]
    }
   ],
   "source": [
    "# Printing confusion matrix \n",
    "print(confusion_matrix(y_test, y_pred_default))\n",
    "# Printing accuracy\n",
    "from sklearn.metrics import accuracy_score\n",
    "print(accuracy_score(y_test, y_pred_default))"
   ]
  },
  {
   "cell_type": "code",
   "execution_count": null,
   "metadata": {},
   "outputs": [],
   "source": []
  },
  {
   "cell_type": "code",
   "execution_count": null,
   "metadata": {},
   "outputs": [],
   "source": []
  }
 ],
 "metadata": {
  "kernelspec": {
   "display_name": "Python 3",
   "language": "python",
   "name": "python3"
  },
  "language_info": {
   "codemirror_mode": {
    "name": "ipython",
    "version": 3
   },
   "file_extension": ".py",
   "mimetype": "text/x-python",
   "name": "python",
   "nbconvert_exporter": "python",
   "pygments_lexer": "ipython3",
   "version": "3.9.1"
  }
 },
 "nbformat": 4,
 "nbformat_minor": 4
}
